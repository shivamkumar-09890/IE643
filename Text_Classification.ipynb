{
  "cells": [
    {
      "cell_type": "markdown",
      "metadata": {
        "id": "dFfJ25QSVt9i"
      },
      "source": [
        "# $\\textbf{Bag of words}$\n",
        "\n",
        "- A bag-of-words is a representation of text that describes the occurrence of words within a document. It involves two things:\n",
        "\n",
        "    - A vocabulary of known words.\n",
        "    - A measure of the presence of known words.\n",
        "- It is called a “bag” of words, because any information about the order or structure of words in the document is discarded. The model is only concerned with whether known words occur in the document, not where in the document.\n",
        "\n",
        "Source: https://machinelearningmastery.com/gentle-introduction-bag-words-model/"
      ]
    },
    {
      "cell_type": "code",
      "execution_count": null,
      "metadata": {
        "id": "SnAGXIzOVt9m"
      },
      "outputs": [],
      "source": [
        "corpus = ['Machine learning is future',\n",
        "          'I love data science',\n",
        "          'I love NLP',\n",
        "          'I love Deep Learning and Deep Learning love math']"
      ]
    },
    {
      "cell_type": "markdown",
      "metadata": {
        "id": "eLf_Ykm0Vt9n"
      },
      "source": [
        "# $\\textbf{Count Vectorization technique}$\n",
        "It Transform corpus into vectors by converts a collection of documents into a matrix of token counts\n",
        "- Tokenization\n",
        "- Vocabulary Creation\n",
        "- Count Representation"
      ]
    },
    {
      "cell_type": "code",
      "execution_count": null,
      "metadata": {
        "id": "q9hogWQiVt9n"
      },
      "outputs": [],
      "source": [
        "import nltk                             # Natural Language Toolkit (NLTK)\n",
        "nltk.download('punkt', quiet =  True)\n",
        "from nltk.tokenize import word_tokenize #tokenize the sentace\n",
        "from sklearn.feature_extraction.text import CountVectorizer"
      ]
    },
    {
      "cell_type": "code",
      "execution_count": null,
      "metadata": {
        "id": "G0xm4-wEVt9o",
        "outputId": "fa00f886-a5dd-4bcc-b880-f12f0d958245",
        "colab": {
          "base_uri": "https://localhost:8080/"
        }
      },
      "outputs": [
        {
          "output_type": "execute_result",
          "data": {
            "text/plain": [
              "['I', 'Love', 'Nlp']"
            ]
          },
          "metadata": {},
          "execution_count": 4
        }
      ],
      "source": [
        "tokens = word_tokenize('I Love Nlp')\n",
        "tokens"
      ]
    },
    {
      "cell_type": "code",
      "execution_count": null,
      "metadata": {
        "id": "44wbfmbsVt9o",
        "outputId": "fc63b5c0-941b-4cb8-bbd9-eb76f95e221c",
        "colab": {
          "base_uri": "https://localhost:8080/"
        }
      },
      "outputs": [
        {
          "output_type": "stream",
          "name": "stdout",
          "text": [
            "Feature Names: ['and' 'data' 'deep' 'future' 'i' 'is' 'learning' 'love' 'machine' 'math'\n",
            " 'nlp' 'science']\n",
            "Total Number of the features: 12\n"
          ]
        }
      ],
      "source": [
        "count_vectorizer = CountVectorizer(lowercase = True, tokenizer = word_tokenize)\n",
        "\n",
        "vectors = count_vectorizer.fit_transform(corpus).toarray() # if we don't apply toarray we will get a sparse array\n",
        "\n",
        "feature_names = count_vectorizer.get_feature_names_out()\n",
        "\n",
        "print('Feature Names:', feature_names)\n",
        "print('Total Number of the features:', len(feature_names))"
      ]
    },
    {
      "cell_type": "code",
      "execution_count": null,
      "metadata": {
        "id": "ZoShDe4qoWfC"
      },
      "outputs": [],
      "source": [
        "corpus = ['Machine learning is future',\n",
        "          'I love data science',\n",
        "          'I love NLP',\n",
        "          'I love Deep Learning and Deep Learning love math']"
      ]
    },
    {
      "cell_type": "code",
      "execution_count": null,
      "metadata": {
        "id": "kDilSpRpVt9q",
        "outputId": "99dceb26-26de-49f2-de73-023a00ac6159",
        "colab": {
          "base_uri": "https://localhost:8080/"
        }
      },
      "outputs": [
        {
          "output_type": "stream",
          "name": "stdout",
          "text": [
            "Vectors: \n",
            " [[0 0 0 1 0 1 1 0 1 0 0 0]\n",
            " [0 1 0 0 1 0 0 1 0 0 0 1]\n",
            " [0 0 0 0 1 0 0 1 0 0 1 0]\n",
            " [1 0 2 0 1 0 2 2 0 1 0 0]]\n",
            "Shape of array is: (4, 12)\n",
            "Type of Vectors matrix: <class 'numpy.ndarray'>\n"
          ]
        }
      ],
      "source": [
        "print('Vectors:', '\\n',  vectors)\n",
        "print('Shape of array is:', vectors.shape)\n",
        "print('Type of Vectors matrix:',  type(vectors))"
      ]
    },
    {
      "cell_type": "code",
      "execution_count": null,
      "metadata": {
        "id": "p6N4J6B3Vt9p",
        "outputId": "c3b7b951-6d25-4a3c-f5aa-8203995a36b3",
        "colab": {
          "base_uri": "https://localhost:8080/"
        }
      },
      "outputs": [
        {
          "output_type": "stream",
          "name": "stdout",
          "text": [
            "Corpus Matrix:\n",
            "    and  data  deep  future  i  is  learning  love  machine  math  nlp  science\n",
            "0    0     0     0       1  0   1         1     0        1     0    0        0\n",
            "1    0     1     0       0  1   0         0     1        0     0    0        1\n",
            "2    0     0     0       0  1   0         0     1        0     0    1        0\n",
            "3    1     0     2       0  1   0         2     2        0     1    0        0\n"
          ]
        }
      ],
      "source": [
        "import pandas as pd\n",
        "\n",
        "# Create a pandas DataFrame for better visualization\n",
        "df = pd.DataFrame(vectors, columns = feature_names)\n",
        "\n",
        "print('Corpus Matrix:\\n', df)"
      ]
    },
    {
      "cell_type": "markdown",
      "metadata": {
        "id": "5BGEfzURVt9r"
      },
      "source": [
        "$\\textbf{Count Vectorizer with N-gram}$\n",
        "\n",
        "- A more sophisticated approach is to create a vocabulary of grouped words. This both changes the scope of the vocabulary and allows the bag-of-words to capture a little bit more meaning from the document.\n",
        "\n",
        "- In this approach, each word or token is called a “gram”. Creating a vocabulary of two-word pairs is, in turn, called a bigram model. Again, only the bigrams that appear in the corpus are modeled, not all possible bigrams."
      ]
    },
    {
      "cell_type": "code",
      "execution_count": null,
      "metadata": {
        "id": "IlFK3-xXVt9r",
        "outputId": "832f33c3-9af6-4bfa-e321-f6c0b2df5a46",
        "colab": {
          "base_uri": "https://localhost:8080/"
        }
      },
      "outputs": [
        {
          "output_type": "stream",
          "name": "stdout",
          "text": [
            "Feature Names: ['deep' 'deep learning' 'i' 'i love' 'learning' 'love' 'love deep']\n",
            "Total Number of the features: 7\n"
          ]
        }
      ],
      "source": [
        "count_vectorizer = CountVectorizer(lowercase = True, tokenizer = word_tokenize,\n",
        "                                   ngram_range = (1,2))    # Include N-gram Here.\n",
        "\n",
        "\n",
        "                                          # Example Sentence\n",
        "vectors = count_vectorizer.fit_transform(['I love deep learning']).toarray()\n",
        "\n",
        "feature_names = count_vectorizer.get_feature_names_out()\n",
        "\n",
        "print('Feature Names:', feature_names)\n",
        "print('Total Number of the features:', len(feature_names))"
      ]
    },
    {
      "cell_type": "code",
      "execution_count": null,
      "metadata": {
        "id": "1quIDvznVt9r",
        "outputId": "63158a0a-3814-4a07-a86a-6d1f75d1cd86",
        "colab": {
          "base_uri": "https://localhost:8080/"
        }
      },
      "outputs": [
        {
          "output_type": "stream",
          "name": "stdout",
          "text": [
            "Corpus Matrix:\n",
            "    deep  deep learning  i  i love  learning  love  love deep\n",
            "0     1              1  1       1         1     1          1\n"
          ]
        }
      ],
      "source": [
        "import pandas as pd\n",
        "\n",
        "# Create a pandas DataFrame for better visualization\n",
        "df = pd.DataFrame(vectors, columns = feature_names)\n",
        "\n",
        "print('Corpus Matrix:\\n', df)"
      ]
    },
    {
      "cell_type": "code",
      "source": [
        "# Now Applying CountVectorizer with N-Gram in whole corpus\n",
        "\n",
        "count_vectorizer = CountVectorizer(lowercase = True, tokenizer = word_tokenize,\n",
        "                                   ngram_range = (1,2))    # Include N-gram Here.\n",
        "\n",
        "vectors = count_vectorizer.fit_transform(corpus).toarray()\n",
        "\n",
        "feature_names = count_vectorizer.get_feature_names_out()\n",
        "\n",
        "print('Feature Names:', feature_names)\n",
        "print('Total Number of the features:', len(feature_names))"
      ],
      "metadata": {
        "id": "ThmpW-1zpK9u",
        "colab": {
          "base_uri": "https://localhost:8080/"
        },
        "outputId": "fb734d52-6be9-4cca-f0d1-db6988bf51f0"
      },
      "execution_count": null,
      "outputs": [
        {
          "output_type": "stream",
          "name": "stdout",
          "text": [
            "Feature Names: ['and' 'and deep' 'data' 'data science' 'deep' 'deep learning' 'future'\n",
            " 'i' 'i love' 'is' 'is future' 'learning' 'learning and' 'learning is'\n",
            " 'learning love' 'love' 'love data' 'love deep' 'love math' 'love nlp'\n",
            " 'machine' 'machine learning' 'math' 'nlp' 'science']\n",
            "Total Number of the features: 25\n"
          ]
        }
      ]
    },
    {
      "cell_type": "code",
      "source": [
        "print('Vectors:', '\\n',  vectors)\n",
        "print('Shape of array is:', vectors.shape)\n",
        "print('Type of Vectors matrix:',  type(vectors))"
      ],
      "metadata": {
        "colab": {
          "base_uri": "https://localhost:8080/"
        },
        "id": "x2NM-CQmryLa",
        "outputId": "4c64d125-ecbd-4afd-f604-50b87af77663"
      },
      "execution_count": null,
      "outputs": [
        {
          "output_type": "stream",
          "name": "stdout",
          "text": [
            "Vectors: \n",
            " [[0 0 0 0 0 0 1 0 0 1 1 1 0 1 0 0 0 0 0 0 1 1 0 0 0]\n",
            " [0 0 1 1 0 0 0 1 1 0 0 0 0 0 0 1 1 0 0 0 0 0 0 0 1]\n",
            " [0 0 0 0 0 0 0 1 1 0 0 0 0 0 0 1 0 0 0 1 0 0 0 1 0]\n",
            " [1 1 0 0 2 2 0 1 1 0 0 2 1 0 1 2 0 1 1 0 0 0 1 0 0]]\n",
            "Shape of array is: (4, 25)\n",
            "Type of Vectors matrix: <class 'numpy.ndarray'>\n"
          ]
        }
      ]
    },
    {
      "cell_type": "code",
      "source": [
        "import pandas as pd\n",
        "\n",
        "# Create a pandas DataFrame for better visualization\n",
        "df = pd.DataFrame(vectors, columns = feature_names)\n",
        "\n",
        "# Set options to display all columns\n",
        "pd.set_option('display.max_columns', None)\n",
        "\n",
        "# Now print your DataFrame\n",
        "print('Corpus Matrix:\\n', df)"
      ],
      "metadata": {
        "colab": {
          "base_uri": "https://localhost:8080/"
        },
        "id": "1hd1X3BNqwye",
        "outputId": "c303e01f-da52-4a1c-800e-ef1cae5dcf92"
      },
      "execution_count": null,
      "outputs": [
        {
          "output_type": "stream",
          "name": "stdout",
          "text": [
            "Corpus Matrix:\n",
            "    and  and deep  data  data science  deep  deep learning  future  i  i love  \\\n",
            "0    0         0     0             0     0              0       1  0       0   \n",
            "1    0         0     1             1     0              0       0  1       1   \n",
            "2    0         0     0             0     0              0       0  1       1   \n",
            "3    1         1     0             0     2              2       0  1       1   \n",
            "\n",
            "   is  is future  learning  learning and  learning is  learning love  love  \\\n",
            "0   1          1         1             0            1              0     0   \n",
            "1   0          0         0             0            0              0     1   \n",
            "2   0          0         0             0            0              0     1   \n",
            "3   0          0         2             1            0              1     2   \n",
            "\n",
            "   love data  love deep  love math  love nlp  machine  machine learning  math  \\\n",
            "0          0          0          0         0        1                 1     0   \n",
            "1          1          0          0         0        0                 0     0   \n",
            "2          0          0          0         1        0                 0     0   \n",
            "3          0          1          1         0        0                 0     1   \n",
            "\n",
            "   nlp  science  \n",
            "0    0        0  \n",
            "1    0        1  \n",
            "2    1        0  \n",
            "3    0        0  \n"
          ]
        }
      ]
    },
    {
      "cell_type": "markdown",
      "metadata": {
        "id": "2PcpFfmyVt9s"
      },
      "source": [
        "$\\textbf{Exercise: Unigram}$"
      ]
    },
    {
      "cell_type": "code",
      "execution_count": null,
      "metadata": {
        "id": "8vyEeCFKVt9s"
      },
      "outputs": [],
      "source": [
        "count_vectorizer = CountVectorizer(lowercase = True, tokenizer = word_tokenize,\n",
        "                                   ngram_range = (  'Answer This'   ))    # Include N-gram Here.\n",
        "\n",
        "\n",
        "                                          # Example Sentence\n",
        "vectors = count_vectorizer.fit_transform(['I love deep learning']).toarray()\n",
        "\n",
        "feature_names = count_vectorizer.get_feature_names_out()\n",
        "\n",
        "print('Feature Names:', feature_names)\n",
        "print('Total Number of the features:', len(feature_names))"
      ]
    },
    {
      "cell_type": "markdown",
      "metadata": {
        "id": "0N8a-fyaVt9s"
      },
      "source": [
        "$\\textbf{Exercise: Trigram}$"
      ]
    },
    {
      "cell_type": "code",
      "execution_count": null,
      "metadata": {
        "id": "sBOc4TelVt9s"
      },
      "outputs": [],
      "source": [
        "count_vectorizer = CountVectorizer(lowercase = True, tokenizer = word_tokenize,\n",
        "                                   ngram_range = (  'Answer This'   ))    # Include N-gram Here.\n",
        "\n",
        "\n",
        "                                          # Example Sentence\n",
        "vectors = count_vectorizer.fit_transform(['I love deep learning']).toarray()\n",
        "\n",
        "feature_names = count_vectorizer.get_feature_names_out()\n",
        "\n",
        "print('Feature Names:', feature_names)\n",
        "print('Total Number of the features:', len(feature_names))"
      ]
    },
    {
      "cell_type": "markdown",
      "metadata": {
        "id": "0k6GKn6dVt9s"
      },
      "source": [
        "# $\\textbf{TF-IDF Vectorization technique}$\n",
        "\n",
        "- $\\text{TF-IDF (Term Frequency-Inverse Document Frequency)}:$ is a numerical statistic that reflects the importance of a word in a document relative to a collection of documents (corpus).\n",
        "\n",
        "\n",
        "- $\\textbf{Term Frequency (TF):}$ Measures how frequently a term occurs in a document. It is calculated as:\n",
        "\n",
        "    - $ \\text{TF(t, d)} = \\frac{\\text{Number of times term t appears in a document d}}{\\text{Total number of terms in the document d}}$\n",
        "\n",
        "\n",
        "\n",
        "- $\\textbf{Inverse Document Frequency(IDF):}$ It measures how important a term is. While computing TF, all terms are considered equally important. However it is known that certain terms, such as \"is\", \"of\", and \"that\", may appear a lot of times but have little importance. Thus we need to weigh down the frequent terms while scale up the rare ones, by computing the following:\n",
        "    - $ \\text{IDF(t)} = \\log \\frac{\\text{Total  number of documents}} {\\text{Number of documents with term t}}$\n",
        "\n",
        "    - Sometimes, 1 is added to the denominator to avoid division by zero, making the formula:\n",
        "    - $ \\text{IDF(t)} = \\log\\frac{\\text{Total  number of documents}} {1 + \\text{Number of documents with term t}}$\n",
        "\n",
        "\n",
        "- $\\textbf{TF-IDF:}$ The product of TF and IDF. It gives the importance of a term in a document considering the corpus:\n",
        "\n",
        "    - $ \\text{TF-IDF(𝑡,𝑑) = TF(𝑡,𝑑)} \\times IDF(𝑡)$\n",
        "\n",
        "\n",
        "Source: https://www.geeksforgeeks.org/understanding-tf-idf-term-frequency-inverse-document-frequency/"
      ]
    },
    {
      "cell_type": "code",
      "execution_count": null,
      "metadata": {
        "id": "VEDO-Pb1Vt9s"
      },
      "outputs": [],
      "source": [
        "corpus = ['Machine learning is future',\n",
        "          'I love data science',\n",
        "          'I love NLP',\n",
        "          'I love Deep Learning and Deep Learning love math']"
      ]
    },
    {
      "cell_type": "code",
      "execution_count": null,
      "metadata": {
        "id": "tZzGRXBOVt9t",
        "outputId": "1e1d77ba-5422-4727-8378-10dd2c0de891",
        "colab": {
          "base_uri": "https://localhost:8080/"
        }
      },
      "outputs": [
        {
          "output_type": "stream",
          "name": "stdout",
          "text": [
            "TF-IDF Feature Names: ['and' 'data' 'deep' 'future' 'i' 'is' 'learning' 'love' 'machine' 'math'\n",
            " 'nlp' 'science']\n",
            "Total TF-IDF Feature: 12\n"
          ]
        }
      ],
      "source": [
        "from sklearn.feature_extraction.text import TfidfVectorizer\n",
        "\n",
        "# TF-IDF Vectorization\n",
        "tfidf_vectorizer = TfidfVectorizer(lowercase = True, tokenizer = word_tokenize)\n",
        "\n",
        "tfidf_vectors = tfidf_vectorizer.fit_transform(corpus).toarray()\n",
        "\n",
        "tfidf_feature_names = tfidf_vectorizer.get_feature_names_out()\n",
        "\n",
        "print('TF-IDF Feature Names:', tfidf_feature_names)\n",
        "print('Total TF-IDF Feature:', len(tfidf_feature_names))"
      ]
    },
    {
      "cell_type": "code",
      "execution_count": null,
      "metadata": {
        "id": "ST02WFSUVt9t",
        "outputId": "b7e049e5-a066-461f-b4a1-d0d3920cb57a",
        "colab": {
          "base_uri": "https://localhost:8080/"
        }
      },
      "outputs": [
        {
          "output_type": "stream",
          "name": "stdout",
          "text": [
            "TF-IDF Vectors:\n",
            "        and      data      deep    future         i        is  learning  \\\n",
            "0  0.000000  0.000000  0.000000  0.525473  0.000000  0.525473  0.414289   \n",
            "1  0.000000  0.596039  0.000000  0.000000  0.380444  0.000000  0.000000   \n",
            "2  0.000000  0.000000  0.000000  0.000000  0.473804  0.000000  0.000000   \n",
            "3  0.308263  0.000000  0.616526  0.000000  0.196760  0.000000  0.486076   \n",
            "\n",
            "       love   machine      math       nlp   science  \n",
            "0  0.000000  0.525473  0.000000  0.000000  0.000000  \n",
            "1  0.380444  0.000000  0.000000  0.000000  0.596039  \n",
            "2  0.473804  0.000000  0.000000  0.742306  0.000000  \n",
            "3  0.393521  0.000000  0.308263  0.000000  0.000000  \n"
          ]
        }
      ],
      "source": [
        "df = pd.DataFrame(tfidf_vectors, columns = tfidf_feature_names)\n",
        "\n",
        "# Display the DataFrame showing TF-IDF vectors\n",
        "print(\"TF-IDF Vectors:\")\n",
        "\n",
        "print(df)"
      ]
    },
    {
      "cell_type": "markdown",
      "metadata": {
        "id": "yAOi_ciuVt9t"
      },
      "source": [
        "$\\textbf{TF-IDF with N-gram}$\n",
        "\n",
        "- A more sophisticated approach is to create a vocabulary of grouped words. This both changes the scope of the vocabulary and allows the bag-of-words to capture a little bit more meaning from the document.\n",
        "\n",
        "- In this approach, each word or token is called a “gram”. Creating a vocabulary of two-word pairs is, in turn, called a bigram model. Again, only the bigrams that appear in the corpus are modeled, not all possible bigrams."
      ]
    },
    {
      "cell_type": "code",
      "execution_count": null,
      "metadata": {
        "id": "iQT2N1isVt9t",
        "outputId": "ff55db9c-40ef-4838-ae89-e5ba4f060d63",
        "colab": {
          "base_uri": "https://localhost:8080/"
        }
      },
      "outputs": [
        {
          "output_type": "stream",
          "name": "stdout",
          "text": [
            "TF-IDF Feature Names: ['i' 'i love' 'love' 'love nlp' 'nlp']\n",
            "Total TF-IDF Feature: 5\n"
          ]
        }
      ],
      "source": [
        "# TF-IDF Vectorization\n",
        "tfidf_vectorizer = TfidfVectorizer(lowercase = True, tokenizer = word_tokenize,\n",
        "                                                     ngram_range = (1,2))\n",
        "\n",
        "\n",
        "                                               # Example Sentence\n",
        "tfidf_vectors = tfidf_vectorizer.fit_transform(['I Love Nlp']).toarray()\n",
        "\n",
        "tfidf_feature_names = tfidf_vectorizer.get_feature_names_out()\n",
        "\n",
        "print('TF-IDF Feature Names:', tfidf_feature_names)\n",
        "print('Total TF-IDF Feature:', len(tfidf_feature_names))"
      ]
    },
    {
      "cell_type": "code",
      "execution_count": null,
      "metadata": {
        "id": "RInf7k3pVt9t",
        "outputId": "ab90d3f3-e5f1-4a37-d0b2-abe8c62f5706",
        "colab": {
          "base_uri": "https://localhost:8080/"
        }
      },
      "outputs": [
        {
          "output_type": "stream",
          "name": "stdout",
          "text": [
            "TF-IDF Vectors:\n",
            "          i    i love      love  love nlp       nlp\n",
            "0  0.447214  0.447214  0.447214  0.447214  0.447214\n"
          ]
        }
      ],
      "source": [
        "df = pd.DataFrame(tfidf_vectors, columns = tfidf_feature_names)\n",
        "\n",
        "# Display the DataFrame showing TF-IDF vectors\n",
        "print(\"TF-IDF Vectors:\")\n",
        "\n",
        "print(df)"
      ]
    },
    {
      "cell_type": "code",
      "source": [
        "# Apply tfidf for corpus using ngrams\n",
        "\n",
        "# TF-IDF Vectorization\n",
        "tfidf_vectorizer = TfidfVectorizer(lowercase = True, tokenizer = word_tokenize,\n",
        "                                                     ngram_range = (1,2))\n",
        "\n",
        "\n",
        "tfidf_vectors = tfidf_vectorizer.fit_transform(corpus).toarray()\n",
        "\n",
        "tfidf_feature_names = tfidf_vectorizer.get_feature_names_out()\n",
        "\n",
        "print('TF-IDF Feature Names:', tfidf_feature_names)\n",
        "print('Total TF-IDF Feature:', len(tfidf_feature_names))"
      ],
      "metadata": {
        "colab": {
          "base_uri": "https://localhost:8080/"
        },
        "id": "rztqyamEyeN1",
        "outputId": "36da49c7-e8c5-40fe-a10f-72f713210134"
      },
      "execution_count": null,
      "outputs": [
        {
          "output_type": "stream",
          "name": "stdout",
          "text": [
            "TF-IDF Feature Names: ['and' 'and deep' 'data' 'data science' 'deep' 'deep learning' 'future'\n",
            " 'i' 'i love' 'is' 'is future' 'learning' 'learning and' 'learning is'\n",
            " 'learning love' 'love' 'love data' 'love deep' 'love math' 'love nlp'\n",
            " 'machine' 'machine learning' 'math' 'nlp' 'science']\n",
            "Total TF-IDF Feature: 25\n"
          ]
        }
      ]
    },
    {
      "cell_type": "code",
      "source": [
        "print('Vectors:', '\\n',  tfidf_vectors)\n",
        "print('Shape of array is:', tfidf_vectors.shape)\n",
        "print('Type of Vectors matrix:',  type(tfidf_vectors))"
      ],
      "metadata": {
        "colab": {
          "base_uri": "https://localhost:8080/"
        },
        "id": "GOZHISwmy4ph",
        "outputId": "fab97989-4237-4cff-fbfc-2fc52514ac90"
      },
      "execution_count": null,
      "outputs": [
        {
          "output_type": "stream",
          "name": "stdout",
          "text": [
            "Vectors: \n",
            " [[0.         0.         0.         0.         0.         0.\n",
            "  0.38861429 0.         0.         0.38861429 0.38861429 0.30638797\n",
            "  0.         0.38861429 0.         0.         0.         0.\n",
            "  0.         0.         0.38861429 0.38861429 0.         0.\n",
            "  0.        ]\n",
            " [0.         0.         0.4375946  0.4375946  0.         0.\n",
            "  0.         0.27931097 0.27931097 0.         0.         0.\n",
            "  0.         0.         0.         0.27931097 0.4375946  0.\n",
            "  0.         0.         0.         0.         0.         0.\n",
            "  0.4375946 ]\n",
            " [0.         0.         0.         0.         0.         0.\n",
            "  0.         0.3555803  0.3555803  0.         0.         0.\n",
            "  0.         0.         0.         0.3555803  0.         0.\n",
            "  0.         0.55708525 0.         0.         0.         0.55708525\n",
            "  0.        ]\n",
            " [0.22399446 0.22399446 0.         0.         0.44798892 0.44798892\n",
            "  0.         0.14297276 0.14297276 0.         0.         0.35319961\n",
            "  0.22399446 0.         0.22399446 0.28594552 0.         0.22399446\n",
            "  0.22399446 0.         0.         0.         0.22399446 0.\n",
            "  0.        ]]\n",
            "Shape of array is: (4, 25)\n",
            "Type of Vectors matrix: <class 'numpy.ndarray'>\n"
          ]
        }
      ]
    },
    {
      "cell_type": "markdown",
      "metadata": {
        "id": "omleEgnnVt9t"
      },
      "source": [
        "$\\textbf{ Exercise TF-IDF with Unigram}$"
      ]
    },
    {
      "cell_type": "code",
      "execution_count": null,
      "metadata": {
        "id": "8Rgcdv6-Vt9u"
      },
      "outputs": [],
      "source": [
        "# TF-IDF Vectorization\n",
        "tfidf_vectorizer = TfidfVectorizer(lowercase = True, tokenizer = word_tokenize,\n",
        "                                                     ngram_range = ('Answer This'))\n",
        "\n",
        "tfidf_vectors = tfidf_vectorizer.fit_transform(['I Love Nlp']).toarray()\n",
        "\n",
        "tfidf_feature_names = tfidf_vectorizer.get_feature_names_out()\n",
        "\n",
        "print('TF-IDF Feature Names:', tfidf_feature_names)\n",
        "print('Total TF-IDF Feature:', len(tfidf_feature_names))"
      ]
    },
    {
      "cell_type": "markdown",
      "metadata": {
        "id": "IOWcFeylVt9u"
      },
      "source": [
        "$\\textbf{Exercise TF-IDF with Trigram}$"
      ]
    },
    {
      "cell_type": "code",
      "execution_count": null,
      "metadata": {
        "id": "aT6JxkoqVt9u"
      },
      "outputs": [],
      "source": [
        "# TF-IDF Vectorization\n",
        "tfidf_vectorizer = TfidfVectorizer(lowercase = True, tokenizer = word_tokenize,\n",
        "                                                     ngram_range = ('Answer This'))\n",
        "\n",
        "tfidf_vectors = tfidf_vectorizer.fit_transform(['I Love Nlp']).toarray()\n",
        "\n",
        "tfidf_feature_names = tfidf_vectorizer.get_feature_names_out()\n",
        "\n",
        "print('TF-IDF Feature Names:', tfidf_feature_names)\n",
        "print('Total TF-IDF Feature:', len(tfidf_feature_names))"
      ]
    },
    {
      "cell_type": "markdown",
      "metadata": {
        "id": "1nDIJh8OVt9u"
      },
      "source": [
        "## $\\textbf{Experiment with Quora text classification dataset: }$\n",
        "\n",
        "Dataset link: https://www.kaggle.com/competitions/quora-insincere-questions-classification/data"
      ]
    },
    {
      "cell_type": "markdown",
      "source": [
        "$\\text{Downloading the data from givem google drive link}$"
      ],
      "metadata": {
        "id": "WLCIchgctxAq"
      }
    },
    {
      "cell_type": "code",
      "source": [
        "import gdown\n",
        "\n",
        "train_file_id = '1wFxiEvmL1t-gZUd3H0iY2Z2lOTFMlPqa'\n",
        "test_file_id = '15hU-cIEusm-kTIbsAQkmt6hfDv-eqb0P'\n",
        "\n",
        "train_destination = 'train.csv'\n",
        "test_destination = 'test.csv'\n",
        "\n",
        "train_url = f'https://drive.google.com/uc?id={train_file_id}'\n",
        "test_url = f'https://drive.google.com/uc?id={test_file_id}'\n",
        "\n",
        "# Download the files\n",
        "gdown.download(train_url, train_destination, quiet=False)\n",
        "gdown.download(test_url, test_destination, quiet=False)\n",
        "\n",
        "# Verify the files exist\n",
        "import os\n",
        "print(os.listdir('.'))"
      ],
      "metadata": {
        "colab": {
          "base_uri": "https://localhost:8080/"
        },
        "id": "FO4k15GFyF_h",
        "outputId": "3bbe635c-5342-4328-d772-2c668ef2d799"
      },
      "execution_count": 1,
      "outputs": [
        {
          "output_type": "stream",
          "name": "stderr",
          "text": [
            "Downloading...\n",
            "From (original): https://drive.google.com/uc?id=1wFxiEvmL1t-gZUd3H0iY2Z2lOTFMlPqa\n",
            "From (redirected): https://drive.google.com/uc?id=1wFxiEvmL1t-gZUd3H0iY2Z2lOTFMlPqa&confirm=t&uuid=73510301-2fa2-440e-a4e3-ebba7cd52d77\n",
            "To: /content/train.csv\n",
            "100%|██████████| 124M/124M [00:01<00:00, 78.5MB/s]\n",
            "Downloading...\n",
            "From: https://drive.google.com/uc?id=15hU-cIEusm-kTIbsAQkmt6hfDv-eqb0P\n",
            "To: /content/test.csv\n",
            "100%|██████████| 35.0M/35.0M [00:00<00:00, 59.8MB/s]"
          ]
        },
        {
          "output_type": "stream",
          "name": "stdout",
          "text": [
            "['.config', 'train.csv', 'test.csv', 'sample_data']\n"
          ]
        },
        {
          "output_type": "stream",
          "name": "stderr",
          "text": [
            "\n"
          ]
        }
      ]
    },
    {
      "cell_type": "markdown",
      "metadata": {
        "id": "diRfhNDfVt9u"
      },
      "source": [
        "$\\textbf{Data Procesing}$"
      ]
    },
    {
      "cell_type": "code",
      "execution_count": 2,
      "metadata": {
        "id": "G72FF_svVt9u"
      },
      "outputs": [],
      "source": [
        "import nltk                       # Natural Language Toolkit (NLTK)\n",
        "nltk.download('punkt', quiet=  True)\n",
        "import numpy as np\n",
        "import pandas as pd\n",
        "from nltk.tokenize import word_tokenize\n",
        "from sklearn.model_selection import train_test_split"
      ]
    },
    {
      "cell_type": "markdown",
      "metadata": {
        "id": "-LUIJ6XaVt9u"
      },
      "source": [
        "- Given Labels for each sentences:\n",
        "    - Zero for Sincere Question\n",
        "    - One for Insincere Question"
      ]
    },
    {
      "cell_type": "code",
      "execution_count": 3,
      "metadata": {
        "id": "ylL9lhT-Vt9u"
      },
      "outputs": [],
      "source": [
        "train_path = '/content/train.csv'\n",
        "test_path = '/content/test.csv'"
      ]
    },
    {
      "cell_type": "code",
      "execution_count": 4,
      "metadata": {
        "id": "Lfps5_VOVt9v"
      },
      "outputs": [],
      "source": [
        "train = pd.read_csv(train_path)\n",
        "test = pd.read_csv(test_path)"
      ]
    },
    {
      "cell_type": "code",
      "source": [
        "train.target.value_counts()"
      ],
      "metadata": {
        "colab": {
          "base_uri": "https://localhost:8080/",
          "height": 178
        },
        "id": "jHQ2aKkSrugy",
        "outputId": "818c8abe-0546-4589-a5a6-8b00d945d538"
      },
      "execution_count": 5,
      "outputs": [
        {
          "output_type": "execute_result",
          "data": {
            "text/plain": [
              "target\n",
              "0    1225312\n",
              "1      80810\n",
              "Name: count, dtype: int64"
            ],
            "text/html": [
              "<div>\n",
              "<style scoped>\n",
              "    .dataframe tbody tr th:only-of-type {\n",
              "        vertical-align: middle;\n",
              "    }\n",
              "\n",
              "    .dataframe tbody tr th {\n",
              "        vertical-align: top;\n",
              "    }\n",
              "\n",
              "    .dataframe thead th {\n",
              "        text-align: right;\n",
              "    }\n",
              "</style>\n",
              "<table border=\"1\" class=\"dataframe\">\n",
              "  <thead>\n",
              "    <tr style=\"text-align: right;\">\n",
              "      <th></th>\n",
              "      <th>count</th>\n",
              "    </tr>\n",
              "    <tr>\n",
              "      <th>target</th>\n",
              "      <th></th>\n",
              "    </tr>\n",
              "  </thead>\n",
              "  <tbody>\n",
              "    <tr>\n",
              "      <th>0</th>\n",
              "      <td>1225312</td>\n",
              "    </tr>\n",
              "    <tr>\n",
              "      <th>1</th>\n",
              "      <td>80810</td>\n",
              "    </tr>\n",
              "  </tbody>\n",
              "</table>\n",
              "</div><br><label><b>dtype:</b> int64</label>"
            ]
          },
          "metadata": {},
          "execution_count": 5
        }
      ]
    },
    {
      "cell_type": "code",
      "source": [
        "# Shuffle the DataFrame\n",
        "\n",
        "train = train.sample(frac = 1).reset_index(drop = True)\n",
        "train.head(10)"
      ],
      "metadata": {
        "colab": {
          "base_uri": "https://localhost:8080/",
          "height": 363
        },
        "id": "lbFnlx_3z2mK",
        "outputId": "8c5cfb88-b1ef-4269-9120-11bd9b9c84e2"
      },
      "execution_count": 6,
      "outputs": [
        {
          "output_type": "execute_result",
          "data": {
            "text/plain": [
              "                    qid                                      question_text  \\\n",
              "0  37a7a7b9385dd2f7b4a0  Can you trade digital Xbox one games with a fr...   \n",
              "1  7832498f025fa4d78f06  Can an Honest Person Successfully & Profitably...   \n",
              "2  1bdcfc0980efb4fa228a  What do computer engineers do in the automobil...   \n",
              "3  8370980ee6107826e983                             Was Hitler's dog mean?   \n",
              "4  4f72857a50339eee8f24  Have you ever thought you copied something, bu...   \n",
              "5  593cf7c9836658ce0962  How do Indian Muslims feel when they learn tha...   \n",
              "6  61ac16931ffada04e0f8         Does Kindle fire have enternet. Explorers?   \n",
              "7  c7560c7615a83923ca7f        What are the causes of swollen neck glands?   \n",
              "8  01ef5739f538dd67ee05  Is it true that an average American doesn't kn...   \n",
              "9  883abc3642ce1c58a6cd          What muscles does a front crawl exercise?   \n",
              "\n",
              "   target  \n",
              "0       0  \n",
              "1       0  \n",
              "2       0  \n",
              "3       0  \n",
              "4       0  \n",
              "5       1  \n",
              "6       0  \n",
              "7       0  \n",
              "8       0  \n",
              "9       0  "
            ],
            "text/html": [
              "\n",
              "  <div id=\"df-9411d654-43ec-4eef-8032-131e7b5e780c\" class=\"colab-df-container\">\n",
              "    <div>\n",
              "<style scoped>\n",
              "    .dataframe tbody tr th:only-of-type {\n",
              "        vertical-align: middle;\n",
              "    }\n",
              "\n",
              "    .dataframe tbody tr th {\n",
              "        vertical-align: top;\n",
              "    }\n",
              "\n",
              "    .dataframe thead th {\n",
              "        text-align: right;\n",
              "    }\n",
              "</style>\n",
              "<table border=\"1\" class=\"dataframe\">\n",
              "  <thead>\n",
              "    <tr style=\"text-align: right;\">\n",
              "      <th></th>\n",
              "      <th>qid</th>\n",
              "      <th>question_text</th>\n",
              "      <th>target</th>\n",
              "    </tr>\n",
              "  </thead>\n",
              "  <tbody>\n",
              "    <tr>\n",
              "      <th>0</th>\n",
              "      <td>37a7a7b9385dd2f7b4a0</td>\n",
              "      <td>Can you trade digital Xbox one games with a fr...</td>\n",
              "      <td>0</td>\n",
              "    </tr>\n",
              "    <tr>\n",
              "      <th>1</th>\n",
              "      <td>7832498f025fa4d78f06</td>\n",
              "      <td>Can an Honest Person Successfully &amp; Profitably...</td>\n",
              "      <td>0</td>\n",
              "    </tr>\n",
              "    <tr>\n",
              "      <th>2</th>\n",
              "      <td>1bdcfc0980efb4fa228a</td>\n",
              "      <td>What do computer engineers do in the automobil...</td>\n",
              "      <td>0</td>\n",
              "    </tr>\n",
              "    <tr>\n",
              "      <th>3</th>\n",
              "      <td>8370980ee6107826e983</td>\n",
              "      <td>Was Hitler's dog mean?</td>\n",
              "      <td>0</td>\n",
              "    </tr>\n",
              "    <tr>\n",
              "      <th>4</th>\n",
              "      <td>4f72857a50339eee8f24</td>\n",
              "      <td>Have you ever thought you copied something, bu...</td>\n",
              "      <td>0</td>\n",
              "    </tr>\n",
              "    <tr>\n",
              "      <th>5</th>\n",
              "      <td>593cf7c9836658ce0962</td>\n",
              "      <td>How do Indian Muslims feel when they learn tha...</td>\n",
              "      <td>1</td>\n",
              "    </tr>\n",
              "    <tr>\n",
              "      <th>6</th>\n",
              "      <td>61ac16931ffada04e0f8</td>\n",
              "      <td>Does Kindle fire have enternet. Explorers?</td>\n",
              "      <td>0</td>\n",
              "    </tr>\n",
              "    <tr>\n",
              "      <th>7</th>\n",
              "      <td>c7560c7615a83923ca7f</td>\n",
              "      <td>What are the causes of swollen neck glands?</td>\n",
              "      <td>0</td>\n",
              "    </tr>\n",
              "    <tr>\n",
              "      <th>8</th>\n",
              "      <td>01ef5739f538dd67ee05</td>\n",
              "      <td>Is it true that an average American doesn't kn...</td>\n",
              "      <td>0</td>\n",
              "    </tr>\n",
              "    <tr>\n",
              "      <th>9</th>\n",
              "      <td>883abc3642ce1c58a6cd</td>\n",
              "      <td>What muscles does a front crawl exercise?</td>\n",
              "      <td>0</td>\n",
              "    </tr>\n",
              "  </tbody>\n",
              "</table>\n",
              "</div>\n",
              "    <div class=\"colab-df-buttons\">\n",
              "\n",
              "  <div class=\"colab-df-container\">\n",
              "    <button class=\"colab-df-convert\" onclick=\"convertToInteractive('df-9411d654-43ec-4eef-8032-131e7b5e780c')\"\n",
              "            title=\"Convert this dataframe to an interactive table.\"\n",
              "            style=\"display:none;\">\n",
              "\n",
              "  <svg xmlns=\"http://www.w3.org/2000/svg\" height=\"24px\" viewBox=\"0 -960 960 960\">\n",
              "    <path d=\"M120-120v-720h720v720H120Zm60-500h600v-160H180v160Zm220 220h160v-160H400v160Zm0 220h160v-160H400v160ZM180-400h160v-160H180v160Zm440 0h160v-160H620v160ZM180-180h160v-160H180v160Zm440 0h160v-160H620v160Z\"/>\n",
              "  </svg>\n",
              "    </button>\n",
              "\n",
              "  <style>\n",
              "    .colab-df-container {\n",
              "      display:flex;\n",
              "      gap: 12px;\n",
              "    }\n",
              "\n",
              "    .colab-df-convert {\n",
              "      background-color: #E8F0FE;\n",
              "      border: none;\n",
              "      border-radius: 50%;\n",
              "      cursor: pointer;\n",
              "      display: none;\n",
              "      fill: #1967D2;\n",
              "      height: 32px;\n",
              "      padding: 0 0 0 0;\n",
              "      width: 32px;\n",
              "    }\n",
              "\n",
              "    .colab-df-convert:hover {\n",
              "      background-color: #E2EBFA;\n",
              "      box-shadow: 0px 1px 2px rgba(60, 64, 67, 0.3), 0px 1px 3px 1px rgba(60, 64, 67, 0.15);\n",
              "      fill: #174EA6;\n",
              "    }\n",
              "\n",
              "    .colab-df-buttons div {\n",
              "      margin-bottom: 4px;\n",
              "    }\n",
              "\n",
              "    [theme=dark] .colab-df-convert {\n",
              "      background-color: #3B4455;\n",
              "      fill: #D2E3FC;\n",
              "    }\n",
              "\n",
              "    [theme=dark] .colab-df-convert:hover {\n",
              "      background-color: #434B5C;\n",
              "      box-shadow: 0px 1px 3px 1px rgba(0, 0, 0, 0.15);\n",
              "      filter: drop-shadow(0px 1px 2px rgba(0, 0, 0, 0.3));\n",
              "      fill: #FFFFFF;\n",
              "    }\n",
              "  </style>\n",
              "\n",
              "    <script>\n",
              "      const buttonEl =\n",
              "        document.querySelector('#df-9411d654-43ec-4eef-8032-131e7b5e780c button.colab-df-convert');\n",
              "      buttonEl.style.display =\n",
              "        google.colab.kernel.accessAllowed ? 'block' : 'none';\n",
              "\n",
              "      async function convertToInteractive(key) {\n",
              "        const element = document.querySelector('#df-9411d654-43ec-4eef-8032-131e7b5e780c');\n",
              "        const dataTable =\n",
              "          await google.colab.kernel.invokeFunction('convertToInteractive',\n",
              "                                                    [key], {});\n",
              "        if (!dataTable) return;\n",
              "\n",
              "        const docLinkHtml = 'Like what you see? Visit the ' +\n",
              "          '<a target=\"_blank\" href=https://colab.research.google.com/notebooks/data_table.ipynb>data table notebook</a>'\n",
              "          + ' to learn more about interactive tables.';\n",
              "        element.innerHTML = '';\n",
              "        dataTable['output_type'] = 'display_data';\n",
              "        await google.colab.output.renderOutput(dataTable, element);\n",
              "        const docLink = document.createElement('div');\n",
              "        docLink.innerHTML = docLinkHtml;\n",
              "        element.appendChild(docLink);\n",
              "      }\n",
              "    </script>\n",
              "  </div>\n",
              "\n",
              "\n",
              "<div id=\"df-f767a599-0ce2-4e5d-b511-a788d9a8f542\">\n",
              "  <button class=\"colab-df-quickchart\" onclick=\"quickchart('df-f767a599-0ce2-4e5d-b511-a788d9a8f542')\"\n",
              "            title=\"Suggest charts\"\n",
              "            style=\"display:none;\">\n",
              "\n",
              "<svg xmlns=\"http://www.w3.org/2000/svg\" height=\"24px\"viewBox=\"0 0 24 24\"\n",
              "     width=\"24px\">\n",
              "    <g>\n",
              "        <path d=\"M19 3H5c-1.1 0-2 .9-2 2v14c0 1.1.9 2 2 2h14c1.1 0 2-.9 2-2V5c0-1.1-.9-2-2-2zM9 17H7v-7h2v7zm4 0h-2V7h2v10zm4 0h-2v-4h2v4z\"/>\n",
              "    </g>\n",
              "</svg>\n",
              "  </button>\n",
              "\n",
              "<style>\n",
              "  .colab-df-quickchart {\n",
              "      --bg-color: #E8F0FE;\n",
              "      --fill-color: #1967D2;\n",
              "      --hover-bg-color: #E2EBFA;\n",
              "      --hover-fill-color: #174EA6;\n",
              "      --disabled-fill-color: #AAA;\n",
              "      --disabled-bg-color: #DDD;\n",
              "  }\n",
              "\n",
              "  [theme=dark] .colab-df-quickchart {\n",
              "      --bg-color: #3B4455;\n",
              "      --fill-color: #D2E3FC;\n",
              "      --hover-bg-color: #434B5C;\n",
              "      --hover-fill-color: #FFFFFF;\n",
              "      --disabled-bg-color: #3B4455;\n",
              "      --disabled-fill-color: #666;\n",
              "  }\n",
              "\n",
              "  .colab-df-quickchart {\n",
              "    background-color: var(--bg-color);\n",
              "    border: none;\n",
              "    border-radius: 50%;\n",
              "    cursor: pointer;\n",
              "    display: none;\n",
              "    fill: var(--fill-color);\n",
              "    height: 32px;\n",
              "    padding: 0;\n",
              "    width: 32px;\n",
              "  }\n",
              "\n",
              "  .colab-df-quickchart:hover {\n",
              "    background-color: var(--hover-bg-color);\n",
              "    box-shadow: 0 1px 2px rgba(60, 64, 67, 0.3), 0 1px 3px 1px rgba(60, 64, 67, 0.15);\n",
              "    fill: var(--button-hover-fill-color);\n",
              "  }\n",
              "\n",
              "  .colab-df-quickchart-complete:disabled,\n",
              "  .colab-df-quickchart-complete:disabled:hover {\n",
              "    background-color: var(--disabled-bg-color);\n",
              "    fill: var(--disabled-fill-color);\n",
              "    box-shadow: none;\n",
              "  }\n",
              "\n",
              "  .colab-df-spinner {\n",
              "    border: 2px solid var(--fill-color);\n",
              "    border-color: transparent;\n",
              "    border-bottom-color: var(--fill-color);\n",
              "    animation:\n",
              "      spin 1s steps(1) infinite;\n",
              "  }\n",
              "\n",
              "  @keyframes spin {\n",
              "    0% {\n",
              "      border-color: transparent;\n",
              "      border-bottom-color: var(--fill-color);\n",
              "      border-left-color: var(--fill-color);\n",
              "    }\n",
              "    20% {\n",
              "      border-color: transparent;\n",
              "      border-left-color: var(--fill-color);\n",
              "      border-top-color: var(--fill-color);\n",
              "    }\n",
              "    30% {\n",
              "      border-color: transparent;\n",
              "      border-left-color: var(--fill-color);\n",
              "      border-top-color: var(--fill-color);\n",
              "      border-right-color: var(--fill-color);\n",
              "    }\n",
              "    40% {\n",
              "      border-color: transparent;\n",
              "      border-right-color: var(--fill-color);\n",
              "      border-top-color: var(--fill-color);\n",
              "    }\n",
              "    60% {\n",
              "      border-color: transparent;\n",
              "      border-right-color: var(--fill-color);\n",
              "    }\n",
              "    80% {\n",
              "      border-color: transparent;\n",
              "      border-right-color: var(--fill-color);\n",
              "      border-bottom-color: var(--fill-color);\n",
              "    }\n",
              "    90% {\n",
              "      border-color: transparent;\n",
              "      border-bottom-color: var(--fill-color);\n",
              "    }\n",
              "  }\n",
              "</style>\n",
              "\n",
              "  <script>\n",
              "    async function quickchart(key) {\n",
              "      const quickchartButtonEl =\n",
              "        document.querySelector('#' + key + ' button');\n",
              "      quickchartButtonEl.disabled = true;  // To prevent multiple clicks.\n",
              "      quickchartButtonEl.classList.add('colab-df-spinner');\n",
              "      try {\n",
              "        const charts = await google.colab.kernel.invokeFunction(\n",
              "            'suggestCharts', [key], {});\n",
              "      } catch (error) {\n",
              "        console.error('Error during call to suggestCharts:', error);\n",
              "      }\n",
              "      quickchartButtonEl.classList.remove('colab-df-spinner');\n",
              "      quickchartButtonEl.classList.add('colab-df-quickchart-complete');\n",
              "    }\n",
              "    (() => {\n",
              "      let quickchartButtonEl =\n",
              "        document.querySelector('#df-f767a599-0ce2-4e5d-b511-a788d9a8f542 button');\n",
              "      quickchartButtonEl.style.display =\n",
              "        google.colab.kernel.accessAllowed ? 'block' : 'none';\n",
              "    })();\n",
              "  </script>\n",
              "</div>\n",
              "\n",
              "    </div>\n",
              "  </div>\n"
            ],
            "application/vnd.google.colaboratory.intrinsic+json": {
              "type": "dataframe",
              "variable_name": "train"
            }
          },
          "metadata": {},
          "execution_count": 6
        }
      ]
    },
    {
      "cell_type": "code",
      "execution_count": 7,
      "metadata": {
        "id": "ikraigg-Vt9x",
        "outputId": "ec1aa4dd-5b19-4547-b0ab-4db902417513",
        "colab": {
          "base_uri": "https://localhost:8080/"
        }
      },
      "outputs": [
        {
          "output_type": "execute_result",
          "data": {
            "text/plain": [
              "((1306122, 3), (375806, 2))"
            ]
          },
          "metadata": {},
          "execution_count": 7
        }
      ],
      "source": [
        "train.shape, test.shape"
      ]
    },
    {
      "cell_type": "code",
      "execution_count": 8,
      "metadata": {
        "id": "dmIlCwD1Vt9x",
        "outputId": "25d6659a-8da8-4944-9d44-205cbbbd38b8",
        "colab": {
          "base_uri": "https://localhost:8080/",
          "height": 206
        }
      },
      "outputs": [
        {
          "output_type": "execute_result",
          "data": {
            "text/plain": [
              "                    qid                                      question_text\n",
              "0  0000163e3ea7c7a74cd7  Why do so many women become so rude and arroga...\n",
              "1  00002bd4fb5d505b9161  When should I apply for RV college of engineer...\n",
              "2  00007756b4a147d2b0b3  What is it really like to be a nurse practitio...\n",
              "3  000086e4b7e1c7146103                             Who are entrepreneurs?\n",
              "4  0000c4c3fbe8785a3090   Is education really making good people nowadays?"
            ],
            "text/html": [
              "\n",
              "  <div id=\"df-fa8e09c6-fb7c-4593-9130-ad0f5d0436eb\" class=\"colab-df-container\">\n",
              "    <div>\n",
              "<style scoped>\n",
              "    .dataframe tbody tr th:only-of-type {\n",
              "        vertical-align: middle;\n",
              "    }\n",
              "\n",
              "    .dataframe tbody tr th {\n",
              "        vertical-align: top;\n",
              "    }\n",
              "\n",
              "    .dataframe thead th {\n",
              "        text-align: right;\n",
              "    }\n",
              "</style>\n",
              "<table border=\"1\" class=\"dataframe\">\n",
              "  <thead>\n",
              "    <tr style=\"text-align: right;\">\n",
              "      <th></th>\n",
              "      <th>qid</th>\n",
              "      <th>question_text</th>\n",
              "    </tr>\n",
              "  </thead>\n",
              "  <tbody>\n",
              "    <tr>\n",
              "      <th>0</th>\n",
              "      <td>0000163e3ea7c7a74cd7</td>\n",
              "      <td>Why do so many women become so rude and arroga...</td>\n",
              "    </tr>\n",
              "    <tr>\n",
              "      <th>1</th>\n",
              "      <td>00002bd4fb5d505b9161</td>\n",
              "      <td>When should I apply for RV college of engineer...</td>\n",
              "    </tr>\n",
              "    <tr>\n",
              "      <th>2</th>\n",
              "      <td>00007756b4a147d2b0b3</td>\n",
              "      <td>What is it really like to be a nurse practitio...</td>\n",
              "    </tr>\n",
              "    <tr>\n",
              "      <th>3</th>\n",
              "      <td>000086e4b7e1c7146103</td>\n",
              "      <td>Who are entrepreneurs?</td>\n",
              "    </tr>\n",
              "    <tr>\n",
              "      <th>4</th>\n",
              "      <td>0000c4c3fbe8785a3090</td>\n",
              "      <td>Is education really making good people nowadays?</td>\n",
              "    </tr>\n",
              "  </tbody>\n",
              "</table>\n",
              "</div>\n",
              "    <div class=\"colab-df-buttons\">\n",
              "\n",
              "  <div class=\"colab-df-container\">\n",
              "    <button class=\"colab-df-convert\" onclick=\"convertToInteractive('df-fa8e09c6-fb7c-4593-9130-ad0f5d0436eb')\"\n",
              "            title=\"Convert this dataframe to an interactive table.\"\n",
              "            style=\"display:none;\">\n",
              "\n",
              "  <svg xmlns=\"http://www.w3.org/2000/svg\" height=\"24px\" viewBox=\"0 -960 960 960\">\n",
              "    <path d=\"M120-120v-720h720v720H120Zm60-500h600v-160H180v160Zm220 220h160v-160H400v160Zm0 220h160v-160H400v160ZM180-400h160v-160H180v160Zm440 0h160v-160H620v160ZM180-180h160v-160H180v160Zm440 0h160v-160H620v160Z\"/>\n",
              "  </svg>\n",
              "    </button>\n",
              "\n",
              "  <style>\n",
              "    .colab-df-container {\n",
              "      display:flex;\n",
              "      gap: 12px;\n",
              "    }\n",
              "\n",
              "    .colab-df-convert {\n",
              "      background-color: #E8F0FE;\n",
              "      border: none;\n",
              "      border-radius: 50%;\n",
              "      cursor: pointer;\n",
              "      display: none;\n",
              "      fill: #1967D2;\n",
              "      height: 32px;\n",
              "      padding: 0 0 0 0;\n",
              "      width: 32px;\n",
              "    }\n",
              "\n",
              "    .colab-df-convert:hover {\n",
              "      background-color: #E2EBFA;\n",
              "      box-shadow: 0px 1px 2px rgba(60, 64, 67, 0.3), 0px 1px 3px 1px rgba(60, 64, 67, 0.15);\n",
              "      fill: #174EA6;\n",
              "    }\n",
              "\n",
              "    .colab-df-buttons div {\n",
              "      margin-bottom: 4px;\n",
              "    }\n",
              "\n",
              "    [theme=dark] .colab-df-convert {\n",
              "      background-color: #3B4455;\n",
              "      fill: #D2E3FC;\n",
              "    }\n",
              "\n",
              "    [theme=dark] .colab-df-convert:hover {\n",
              "      background-color: #434B5C;\n",
              "      box-shadow: 0px 1px 3px 1px rgba(0, 0, 0, 0.15);\n",
              "      filter: drop-shadow(0px 1px 2px rgba(0, 0, 0, 0.3));\n",
              "      fill: #FFFFFF;\n",
              "    }\n",
              "  </style>\n",
              "\n",
              "    <script>\n",
              "      const buttonEl =\n",
              "        document.querySelector('#df-fa8e09c6-fb7c-4593-9130-ad0f5d0436eb button.colab-df-convert');\n",
              "      buttonEl.style.display =\n",
              "        google.colab.kernel.accessAllowed ? 'block' : 'none';\n",
              "\n",
              "      async function convertToInteractive(key) {\n",
              "        const element = document.querySelector('#df-fa8e09c6-fb7c-4593-9130-ad0f5d0436eb');\n",
              "        const dataTable =\n",
              "          await google.colab.kernel.invokeFunction('convertToInteractive',\n",
              "                                                    [key], {});\n",
              "        if (!dataTable) return;\n",
              "\n",
              "        const docLinkHtml = 'Like what you see? Visit the ' +\n",
              "          '<a target=\"_blank\" href=https://colab.research.google.com/notebooks/data_table.ipynb>data table notebook</a>'\n",
              "          + ' to learn more about interactive tables.';\n",
              "        element.innerHTML = '';\n",
              "        dataTable['output_type'] = 'display_data';\n",
              "        await google.colab.output.renderOutput(dataTable, element);\n",
              "        const docLink = document.createElement('div');\n",
              "        docLink.innerHTML = docLinkHtml;\n",
              "        element.appendChild(docLink);\n",
              "      }\n",
              "    </script>\n",
              "  </div>\n",
              "\n",
              "\n",
              "<div id=\"df-a5a6bfad-1f83-43b6-a26d-a1b0dfb45b4c\">\n",
              "  <button class=\"colab-df-quickchart\" onclick=\"quickchart('df-a5a6bfad-1f83-43b6-a26d-a1b0dfb45b4c')\"\n",
              "            title=\"Suggest charts\"\n",
              "            style=\"display:none;\">\n",
              "\n",
              "<svg xmlns=\"http://www.w3.org/2000/svg\" height=\"24px\"viewBox=\"0 0 24 24\"\n",
              "     width=\"24px\">\n",
              "    <g>\n",
              "        <path d=\"M19 3H5c-1.1 0-2 .9-2 2v14c0 1.1.9 2 2 2h14c1.1 0 2-.9 2-2V5c0-1.1-.9-2-2-2zM9 17H7v-7h2v7zm4 0h-2V7h2v10zm4 0h-2v-4h2v4z\"/>\n",
              "    </g>\n",
              "</svg>\n",
              "  </button>\n",
              "\n",
              "<style>\n",
              "  .colab-df-quickchart {\n",
              "      --bg-color: #E8F0FE;\n",
              "      --fill-color: #1967D2;\n",
              "      --hover-bg-color: #E2EBFA;\n",
              "      --hover-fill-color: #174EA6;\n",
              "      --disabled-fill-color: #AAA;\n",
              "      --disabled-bg-color: #DDD;\n",
              "  }\n",
              "\n",
              "  [theme=dark] .colab-df-quickchart {\n",
              "      --bg-color: #3B4455;\n",
              "      --fill-color: #D2E3FC;\n",
              "      --hover-bg-color: #434B5C;\n",
              "      --hover-fill-color: #FFFFFF;\n",
              "      --disabled-bg-color: #3B4455;\n",
              "      --disabled-fill-color: #666;\n",
              "  }\n",
              "\n",
              "  .colab-df-quickchart {\n",
              "    background-color: var(--bg-color);\n",
              "    border: none;\n",
              "    border-radius: 50%;\n",
              "    cursor: pointer;\n",
              "    display: none;\n",
              "    fill: var(--fill-color);\n",
              "    height: 32px;\n",
              "    padding: 0;\n",
              "    width: 32px;\n",
              "  }\n",
              "\n",
              "  .colab-df-quickchart:hover {\n",
              "    background-color: var(--hover-bg-color);\n",
              "    box-shadow: 0 1px 2px rgba(60, 64, 67, 0.3), 0 1px 3px 1px rgba(60, 64, 67, 0.15);\n",
              "    fill: var(--button-hover-fill-color);\n",
              "  }\n",
              "\n",
              "  .colab-df-quickchart-complete:disabled,\n",
              "  .colab-df-quickchart-complete:disabled:hover {\n",
              "    background-color: var(--disabled-bg-color);\n",
              "    fill: var(--disabled-fill-color);\n",
              "    box-shadow: none;\n",
              "  }\n",
              "\n",
              "  .colab-df-spinner {\n",
              "    border: 2px solid var(--fill-color);\n",
              "    border-color: transparent;\n",
              "    border-bottom-color: var(--fill-color);\n",
              "    animation:\n",
              "      spin 1s steps(1) infinite;\n",
              "  }\n",
              "\n",
              "  @keyframes spin {\n",
              "    0% {\n",
              "      border-color: transparent;\n",
              "      border-bottom-color: var(--fill-color);\n",
              "      border-left-color: var(--fill-color);\n",
              "    }\n",
              "    20% {\n",
              "      border-color: transparent;\n",
              "      border-left-color: var(--fill-color);\n",
              "      border-top-color: var(--fill-color);\n",
              "    }\n",
              "    30% {\n",
              "      border-color: transparent;\n",
              "      border-left-color: var(--fill-color);\n",
              "      border-top-color: var(--fill-color);\n",
              "      border-right-color: var(--fill-color);\n",
              "    }\n",
              "    40% {\n",
              "      border-color: transparent;\n",
              "      border-right-color: var(--fill-color);\n",
              "      border-top-color: var(--fill-color);\n",
              "    }\n",
              "    60% {\n",
              "      border-color: transparent;\n",
              "      border-right-color: var(--fill-color);\n",
              "    }\n",
              "    80% {\n",
              "      border-color: transparent;\n",
              "      border-right-color: var(--fill-color);\n",
              "      border-bottom-color: var(--fill-color);\n",
              "    }\n",
              "    90% {\n",
              "      border-color: transparent;\n",
              "      border-bottom-color: var(--fill-color);\n",
              "    }\n",
              "  }\n",
              "</style>\n",
              "\n",
              "  <script>\n",
              "    async function quickchart(key) {\n",
              "      const quickchartButtonEl =\n",
              "        document.querySelector('#' + key + ' button');\n",
              "      quickchartButtonEl.disabled = true;  // To prevent multiple clicks.\n",
              "      quickchartButtonEl.classList.add('colab-df-spinner');\n",
              "      try {\n",
              "        const charts = await google.colab.kernel.invokeFunction(\n",
              "            'suggestCharts', [key], {});\n",
              "      } catch (error) {\n",
              "        console.error('Error during call to suggestCharts:', error);\n",
              "      }\n",
              "      quickchartButtonEl.classList.remove('colab-df-spinner');\n",
              "      quickchartButtonEl.classList.add('colab-df-quickchart-complete');\n",
              "    }\n",
              "    (() => {\n",
              "      let quickchartButtonEl =\n",
              "        document.querySelector('#df-a5a6bfad-1f83-43b6-a26d-a1b0dfb45b4c button');\n",
              "      quickchartButtonEl.style.display =\n",
              "        google.colab.kernel.accessAllowed ? 'block' : 'none';\n",
              "    })();\n",
              "  </script>\n",
              "</div>\n",
              "\n",
              "    </div>\n",
              "  </div>\n"
            ],
            "application/vnd.google.colaboratory.intrinsic+json": {
              "type": "dataframe",
              "variable_name": "test"
            }
          },
          "metadata": {},
          "execution_count": 8
        }
      ],
      "source": [
        "test.head(5)"
      ]
    },
    {
      "cell_type": "markdown",
      "metadata": {
        "id": "pwDf5DbpVt9x"
      },
      "source": [
        "- Text Processing\n",
        "    - Tokenization: Tokenization is the process of dividing a text into smaller units called tokens.\n",
        "    - Stop Word removal: Stop words are common words that are often filtered out in text processing because they do not carry significant meaning for the analysis. Examples of stop words include \"is\", \"and\", \"the\", \"in\", etc.\n",
        "    - Stemming: Stemming is a text normalization technique where words are reduced to their root form by removing suffixes and prefixes. Stemmed words may not necessarily be actual words.\n",
        "    - Lemmatization: Lemmatization is the process of reducing a word to its base or root form (lemma). In linguistics, a lemma is the base or root form of a word."
      ]
    },
    {
      "cell_type": "code",
      "execution_count": 9,
      "metadata": {
        "id": "a5AVjw5QVt9x",
        "outputId": "50aeee70-9c0a-414b-bda4-70eb1809a7af",
        "colab": {
          "base_uri": "https://localhost:8080/"
        }
      },
      "outputs": [
        {
          "output_type": "stream",
          "name": "stdout",
          "text": [
            "Question is: How much would a diamond as big as the sun cost?\n",
            "Label is: 0\n"
          ]
        }
      ],
      "source": [
        "q1 = train['question_text'].values[99]   # Accessing the 100th question\n",
        "l1 = train['target'].values[99]\n",
        "print('Question is:', q1)\n",
        "print('Label is:', l1)"
      ]
    },
    {
      "cell_type": "code",
      "execution_count": 10,
      "metadata": {
        "id": "8MO_1qUMVt9y",
        "outputId": "fc590864-6252-4eab-d7e6-69680ea4aff9",
        "colab": {
          "base_uri": "https://localhost:8080/"
        }
      },
      "outputs": [
        {
          "output_type": "stream",
          "name": "stdout",
          "text": [
            "['How', 'much', 'would', 'a', 'diamond', 'as', 'big', 'as', 'the', 'sun', 'cost', '?']\n",
            "Length of q1_token: 12\n"
          ]
        }
      ],
      "source": [
        "q1_token = word_tokenize(q1)\n",
        "print(q1_token)\n",
        "print('Length of q1_token:', len(q1_token))"
      ]
    },
    {
      "cell_type": "markdown",
      "metadata": {
        "id": "XbvZLc6mVt91"
      },
      "source": [
        "Stop Word Removal:\n",
        "- Stop word removal is the process of filtering out common words from text data that usually don't contribute much meaning in the context of natural language processing (NLP) tasks."
      ]
    },
    {
      "cell_type": "code",
      "source": [
        "from nltk.corpus import stopwords\n",
        "nltk.download('stopwords', quiet=  True)\n",
        "\n",
        "english_stopwords = stopwords.words('english')\n",
        "print('Stopwords are:', ', '.join(english_stopwords))"
      ],
      "metadata": {
        "colab": {
          "base_uri": "https://localhost:8080/"
        },
        "id": "MOpf61DtzANw",
        "outputId": "18768551-c591-4d6a-933f-3ea3748942d4"
      },
      "execution_count": 11,
      "outputs": [
        {
          "output_type": "stream",
          "name": "stdout",
          "text": [
            "Stopwords are: i, me, my, myself, we, our, ours, ourselves, you, you're, you've, you'll, you'd, your, yours, yourself, yourselves, he, him, his, himself, she, she's, her, hers, herself, it, it's, its, itself, they, them, their, theirs, themselves, what, which, who, whom, this, that, that'll, these, those, am, is, are, was, were, be, been, being, have, has, had, having, do, does, did, doing, a, an, the, and, but, if, or, because, as, until, while, of, at, by, for, with, about, against, between, into, through, during, before, after, above, below, to, from, up, down, in, out, on, off, over, under, again, further, then, once, here, there, when, where, why, how, all, any, both, each, few, more, most, other, some, such, no, nor, not, only, own, same, so, than, too, very, s, t, can, will, just, don, don't, should, should've, now, d, ll, m, o, re, ve, y, ain, aren, aren't, couldn, couldn't, didn, didn't, doesn, doesn't, hadn, hadn't, hasn, hasn't, haven, haven't, isn, isn't, ma, mightn, mightn't, mustn, mustn't, needn, needn't, shan, shan't, shouldn, shouldn't, wasn, wasn't, weren, weren't, won, won't, wouldn, wouldn't\n"
          ]
        }
      ]
    },
    {
      "cell_type": "code",
      "source": [
        "# Remove tokens that contain non-alphabetic characters\n",
        "\n",
        "q1_token = [word for word in q1_token if word.isalpha()]\n",
        "print(', '.join(q1_token))"
      ],
      "metadata": {
        "id": "YsTP5Z_cs3gf",
        "colab": {
          "base_uri": "https://localhost:8080/"
        },
        "outputId": "74b9c8dd-b055-45e1-8fb7-85e265c0e72f"
      },
      "execution_count": 12,
      "outputs": [
        {
          "output_type": "stream",
          "name": "stdout",
          "text": [
            "How, much, would, a, diamond, as, big, as, the, sun, cost\n"
          ]
        }
      ]
    },
    {
      "cell_type": "code",
      "source": [
        "def remove_stopwords(tokens):\n",
        "    return [word for word in tokens if word.lower() not in english_stopwords]"
      ],
      "metadata": {
        "id": "y6jW9Y6O3rXJ"
      },
      "execution_count": 13,
      "outputs": []
    },
    {
      "cell_type": "code",
      "execution_count": 14,
      "metadata": {
        "id": "9WG0Fd76Vt92",
        "outputId": "8c7fd2de-ed12-4910-e702-eab73b9e3109",
        "colab": {
          "base_uri": "https://localhost:8080/"
        }
      },
      "outputs": [
        {
          "output_type": "stream",
          "name": "stdout",
          "text": [
            "['much', 'would', 'diamond', 'big', 'sun', 'cost']\n",
            "Length of stopwords: 6\n"
          ]
        }
      ],
      "source": [
        "q1_stp = remove_stopwords(q1_token)\n",
        "q1_stp\n",
        "print(q1_stp)\n",
        "print('Length of stopwords:', len(q1_stp))"
      ]
    },
    {
      "cell_type": "markdown",
      "metadata": {
        "id": "Fsp_d2J_Vt92"
      },
      "source": [
        "Stemming:\n",
        "\n",
        "- Original words: 'go', 'gone', 'going', 'birds', 'bird'\n",
        "- Stemmed words: 'go', 'bird'\n",
        "- Because in terms of the counting frequency and the meaning both of these have exactly same effect."
      ]
    },
    {
      "cell_type": "code",
      "execution_count": 15,
      "metadata": {
        "id": "HKx8vbKUVt92"
      },
      "outputs": [],
      "source": [
        "from nltk.stem.snowball import SnowballStemmer\n",
        "stemmer = SnowballStemmer(language = 'english')"
      ]
    },
    {
      "cell_type": "code",
      "execution_count": 16,
      "metadata": {
        "id": "pGMLPMi3Vt92",
        "outputId": "14a84543-f00c-4268-c58b-114ac70f5779",
        "colab": {
          "base_uri": "https://localhost:8080/"
        }
      },
      "outputs": [
        {
          "output_type": "execute_result",
          "data": {
            "text/plain": [
              "('happi', 'go', 'bird', 'supposs')"
            ]
          },
          "metadata": {},
          "execution_count": 16
        }
      ],
      "source": [
        "stemmer.stem('happiness'), stemmer.stem('going'), stemmer.stem('birds'), stemmer.stem('suppossed')"
      ]
    },
    {
      "cell_type": "code",
      "execution_count": 17,
      "metadata": {
        "id": "t_YSe0ICVt92",
        "outputId": "f14c65e7-ba02-4622-e76a-347dc40d8e69",
        "colab": {
          "base_uri": "https://localhost:8080/"
        }
      },
      "outputs": [
        {
          "output_type": "stream",
          "name": "stdout",
          "text": [
            "['much', 'would', 'diamond', 'big', 'sun', 'cost']\n"
          ]
        }
      ],
      "source": [
        "q1_stem = [stemmer.stem(word) for word in q1_stp]\n",
        "print(q1_stem)"
      ]
    },
    {
      "cell_type": "code",
      "execution_count": 18,
      "metadata": {
        "id": "llku2Gw-Vt93",
        "outputId": "2a82cf87-169d-464c-dc2a-536df5272461",
        "colab": {
          "base_uri": "https://localhost:8080/"
        }
      },
      "outputs": [
        {
          "output_type": "stream",
          "name": "stdout",
          "text": [
            "['much', 'would', 'diamond', 'big', 'sun', 'cost']\n"
          ]
        }
      ],
      "source": [
        "print(q1_stp)"
      ]
    },
    {
      "cell_type": "markdown",
      "metadata": {
        "id": "dxDF6d8mVt93"
      },
      "source": [
        "Lemmatization: Lemmatization is the process of reducing a word to its base form (Lemma refers to the base form of a word).\n",
        "- For example:\n",
        "\n",
        "    - The lemma of the word \"running\" is \"run\".\n",
        "    - The lemma of the word \"happiness\" is \"happy\".\n",
        "    - The lemma of the word \"cities\" is \"city\"."
      ]
    },
    {
      "cell_type": "code",
      "execution_count": 19,
      "metadata": {
        "id": "7ig0kqprVt93"
      },
      "outputs": [],
      "source": [
        "from nltk.stem import WordNetLemmatizer\n",
        "nltk.download('wordnet', quiet=  True)\n",
        "\n",
        "lemmatizer = WordNetLemmatizer()"
      ]
    },
    {
      "cell_type": "code",
      "execution_count": 20,
      "metadata": {
        "id": "P7ePVtLhVt93",
        "outputId": "5b290199-e41b-44e5-9cdf-ad01b6681189",
        "colab": {
          "base_uri": "https://localhost:8080/"
        }
      },
      "outputs": [
        {
          "output_type": "execute_result",
          "data": {
            "text/plain": [
              "('happi', 'citi')"
            ]
          },
          "metadata": {},
          "execution_count": 20
        }
      ],
      "source": [
        "stemmer.stem('happiness'), stemmer.stem('cities')"
      ]
    },
    {
      "cell_type": "code",
      "execution_count": 21,
      "metadata": {
        "id": "vNHLNK0zVt93",
        "outputId": "4e052321-d46e-4787-930d-da9b1fd70b02",
        "colab": {
          "base_uri": "https://localhost:8080/"
        }
      },
      "outputs": [
        {
          "output_type": "execute_result",
          "data": {
            "text/plain": [
              "('happiness', 'city')"
            ]
          },
          "metadata": {},
          "execution_count": 21
        }
      ],
      "source": [
        "lemmatizer.lemmatize('happiness'), lemmatizer.lemmatize('cities')"
      ]
    },
    {
      "cell_type": "code",
      "execution_count": 22,
      "metadata": {
        "id": "Q33od0mPVt93",
        "outputId": "3837692a-da41-4266-e197-92f2ca52cbd9",
        "colab": {
          "base_uri": "https://localhost:8080/"
        }
      },
      "outputs": [
        {
          "output_type": "stream",
          "name": "stdout",
          "text": [
            "['much', 'would', 'diamond', 'big', 'sun', 'cost']\n"
          ]
        }
      ],
      "source": [
        "# Lemmatize each word\n",
        "lemmatized_words = [lemmatizer.lemmatize(word.lower()) for word in q1_stp]\n",
        "\n",
        "print(lemmatized_words)"
      ]
    },
    {
      "cell_type": "markdown",
      "metadata": {
        "id": "oKLRdChyVt94"
      },
      "source": [
        "## Implementation of Bag of words\n",
        "\n",
        "1) Create a vocabulary using count vectorizer. \\\n",
        "2) Transform the text to vectors using the count vectorizer."
      ]
    },
    {
      "cell_type": "markdown",
      "metadata": {
        "id": "LVTcdwO5Vt94"
      },
      "source": [
        "Count vectorizer converts the collection of text documents to a matrix of token counts"
      ]
    },
    {
      "cell_type": "markdown",
      "metadata": {
        "id": "3hCEx16RVt94"
      },
      "source": [
        "# $\\textbf{Count Vectorization technique}$\n",
        "Transform Document into vector"
      ]
    },
    {
      "cell_type": "code",
      "execution_count": 23,
      "metadata": {
        "id": "cEgM9E8VVt94"
      },
      "outputs": [],
      "source": [
        "from sklearn.feature_extraction.text import CountVectorizer\n",
        "\n",
        "\n",
        "def remove_stopwords(tokens):\n",
        "    return [word for word in tokens if word.lower() not in english_stopwords]\n",
        "\n",
        "# Remove tokens that are non-alphabetic characters\n",
        "def remove_non_alphabetic(tokens):\n",
        "    return [word for word in tokens if word.isalpha()]\n",
        "\n",
        "def tokenize(text):\n",
        "\n",
        "    # Tokenize the words\n",
        "    tokens = nltk.word_tokenize(text)\n",
        "\n",
        "    # Removing the non_alphabetic characters\n",
        "    tokens = remove_non_alphabetic(tokens)\n",
        "\n",
        "    # Removing the stopwords\n",
        "    tokens = remove_stopwords(tokens)\n",
        "\n",
        "    # Lemmatize each token\n",
        "    lemmatized_tokens = [lemmatizer.lemmatize(token.lower()) for token in tokens]\n",
        "\n",
        "    return lemmatized_tokens"
      ]
    },
    {
      "cell_type": "code",
      "execution_count": 24,
      "metadata": {
        "id": "dI6sk1--Vt94"
      },
      "outputs": [],
      "source": [
        "vectorizer = CountVectorizer(lowercase = True, tokenizer = tokenize,\n",
        "                            stop_words = english_stopwords,\n",
        "                            max_features = 1000)"
      ]
    },
    {
      "cell_type": "code",
      "source": [
        "train['target'][:10000].value_counts()"
      ],
      "metadata": {
        "colab": {
          "base_uri": "https://localhost:8080/",
          "height": 178
        },
        "id": "yYma4PkH5kgy",
        "outputId": "98f1caad-02ab-410c-aa44-8fac69a22da0"
      },
      "execution_count": 25,
      "outputs": [
        {
          "output_type": "execute_result",
          "data": {
            "text/plain": [
              "target\n",
              "0    9359\n",
              "1     641\n",
              "Name: count, dtype: int64"
            ],
            "text/html": [
              "<div>\n",
              "<style scoped>\n",
              "    .dataframe tbody tr th:only-of-type {\n",
              "        vertical-align: middle;\n",
              "    }\n",
              "\n",
              "    .dataframe tbody tr th {\n",
              "        vertical-align: top;\n",
              "    }\n",
              "\n",
              "    .dataframe thead th {\n",
              "        text-align: right;\n",
              "    }\n",
              "</style>\n",
              "<table border=\"1\" class=\"dataframe\">\n",
              "  <thead>\n",
              "    <tr style=\"text-align: right;\">\n",
              "      <th></th>\n",
              "      <th>count</th>\n",
              "    </tr>\n",
              "    <tr>\n",
              "      <th>target</th>\n",
              "      <th></th>\n",
              "    </tr>\n",
              "  </thead>\n",
              "  <tbody>\n",
              "    <tr>\n",
              "      <th>0</th>\n",
              "      <td>9359</td>\n",
              "    </tr>\n",
              "    <tr>\n",
              "      <th>1</th>\n",
              "      <td>641</td>\n",
              "    </tr>\n",
              "  </tbody>\n",
              "</table>\n",
              "</div><br><label><b>dtype:</b> int64</label>"
            ]
          },
          "metadata": {},
          "execution_count": 25
        }
      ]
    },
    {
      "cell_type": "code",
      "execution_count": 26,
      "metadata": {
        "id": "SVc6nDjXVt94",
        "outputId": "14eab977-55b3-431b-bc65-1b2fa3c64b35",
        "colab": {
          "base_uri": "https://localhost:8080/",
          "height": 285
        }
      },
      "outputs": [
        {
          "output_type": "stream",
          "name": "stderr",
          "text": [
            "/usr/local/lib/python3.10/dist-packages/sklearn/feature_extraction/text.py:525: UserWarning: The parameter 'token_pattern' will not be used since 'tokenizer' is not None'\n",
            "  warnings.warn(\n",
            "/usr/local/lib/python3.10/dist-packages/sklearn/feature_extraction/text.py:408: UserWarning: Your stop_words may be inconsistent with your preprocessing. Tokenizing the stop words generated tokens ['could', 'might', 'must', 'need', 'sha', 'wo', 'would'] not in stop_words.\n",
            "  warnings.warn(\n"
          ]
        },
        {
          "output_type": "execute_result",
          "data": {
            "text/plain": [
              "CountVectorizer(max_features=1000,\n",
              "                stop_words=['i', 'me', 'my', 'myself', 'we', 'our', 'ours',\n",
              "                            'ourselves', 'you', \"you're\", \"you've\", \"you'll\",\n",
              "                            \"you'd\", 'your', 'yours', 'yourself', 'yourselves',\n",
              "                            'he', 'him', 'his', 'himself', 'she', \"she's\",\n",
              "                            'her', 'hers', 'herself', 'it', \"it's\", 'its',\n",
              "                            'itself', ...],\n",
              "                tokenizer=<function tokenize at 0x7e1c48eca4d0>)"
            ],
            "text/html": [
              "<style>#sk-container-id-1 {color: black;}#sk-container-id-1 pre{padding: 0;}#sk-container-id-1 div.sk-toggleable {background-color: white;}#sk-container-id-1 label.sk-toggleable__label {cursor: pointer;display: block;width: 100%;margin-bottom: 0;padding: 0.3em;box-sizing: border-box;text-align: center;}#sk-container-id-1 label.sk-toggleable__label-arrow:before {content: \"▸\";float: left;margin-right: 0.25em;color: #696969;}#sk-container-id-1 label.sk-toggleable__label-arrow:hover:before {color: black;}#sk-container-id-1 div.sk-estimator:hover label.sk-toggleable__label-arrow:before {color: black;}#sk-container-id-1 div.sk-toggleable__content {max-height: 0;max-width: 0;overflow: hidden;text-align: left;background-color: #f0f8ff;}#sk-container-id-1 div.sk-toggleable__content pre {margin: 0.2em;color: black;border-radius: 0.25em;background-color: #f0f8ff;}#sk-container-id-1 input.sk-toggleable__control:checked~div.sk-toggleable__content {max-height: 200px;max-width: 100%;overflow: auto;}#sk-container-id-1 input.sk-toggleable__control:checked~label.sk-toggleable__label-arrow:before {content: \"▾\";}#sk-container-id-1 div.sk-estimator input.sk-toggleable__control:checked~label.sk-toggleable__label {background-color: #d4ebff;}#sk-container-id-1 div.sk-label input.sk-toggleable__control:checked~label.sk-toggleable__label {background-color: #d4ebff;}#sk-container-id-1 input.sk-hidden--visually {border: 0;clip: rect(1px 1px 1px 1px);clip: rect(1px, 1px, 1px, 1px);height: 1px;margin: -1px;overflow: hidden;padding: 0;position: absolute;width: 1px;}#sk-container-id-1 div.sk-estimator {font-family: monospace;background-color: #f0f8ff;border: 1px dotted black;border-radius: 0.25em;box-sizing: border-box;margin-bottom: 0.5em;}#sk-container-id-1 div.sk-estimator:hover {background-color: #d4ebff;}#sk-container-id-1 div.sk-parallel-item::after {content: \"\";width: 100%;border-bottom: 1px solid gray;flex-grow: 1;}#sk-container-id-1 div.sk-label:hover label.sk-toggleable__label {background-color: #d4ebff;}#sk-container-id-1 div.sk-serial::before {content: \"\";position: absolute;border-left: 1px solid gray;box-sizing: border-box;top: 0;bottom: 0;left: 50%;z-index: 0;}#sk-container-id-1 div.sk-serial {display: flex;flex-direction: column;align-items: center;background-color: white;padding-right: 0.2em;padding-left: 0.2em;position: relative;}#sk-container-id-1 div.sk-item {position: relative;z-index: 1;}#sk-container-id-1 div.sk-parallel {display: flex;align-items: stretch;justify-content: center;background-color: white;position: relative;}#sk-container-id-1 div.sk-item::before, #sk-container-id-1 div.sk-parallel-item::before {content: \"\";position: absolute;border-left: 1px solid gray;box-sizing: border-box;top: 0;bottom: 0;left: 50%;z-index: -1;}#sk-container-id-1 div.sk-parallel-item {display: flex;flex-direction: column;z-index: 1;position: relative;background-color: white;}#sk-container-id-1 div.sk-parallel-item:first-child::after {align-self: flex-end;width: 50%;}#sk-container-id-1 div.sk-parallel-item:last-child::after {align-self: flex-start;width: 50%;}#sk-container-id-1 div.sk-parallel-item:only-child::after {width: 0;}#sk-container-id-1 div.sk-dashed-wrapped {border: 1px dashed gray;margin: 0 0.4em 0.5em 0.4em;box-sizing: border-box;padding-bottom: 0.4em;background-color: white;}#sk-container-id-1 div.sk-label label {font-family: monospace;font-weight: bold;display: inline-block;line-height: 1.2em;}#sk-container-id-1 div.sk-label-container {text-align: center;}#sk-container-id-1 div.sk-container {/* jupyter's `normalize.less` sets `[hidden] { display: none; }` but bootstrap.min.css set `[hidden] { display: none !important; }` so we also need the `!important` here to be able to override the default hidden behavior on the sphinx rendered scikit-learn.org. See: https://github.com/scikit-learn/scikit-learn/issues/21755 */display: inline-block !important;position: relative;}#sk-container-id-1 div.sk-text-repr-fallback {display: none;}</style><div id=\"sk-container-id-1\" class=\"sk-top-container\"><div class=\"sk-text-repr-fallback\"><pre>CountVectorizer(max_features=1000,\n",
              "                stop_words=[&#x27;i&#x27;, &#x27;me&#x27;, &#x27;my&#x27;, &#x27;myself&#x27;, &#x27;we&#x27;, &#x27;our&#x27;, &#x27;ours&#x27;,\n",
              "                            &#x27;ourselves&#x27;, &#x27;you&#x27;, &quot;you&#x27;re&quot;, &quot;you&#x27;ve&quot;, &quot;you&#x27;ll&quot;,\n",
              "                            &quot;you&#x27;d&quot;, &#x27;your&#x27;, &#x27;yours&#x27;, &#x27;yourself&#x27;, &#x27;yourselves&#x27;,\n",
              "                            &#x27;he&#x27;, &#x27;him&#x27;, &#x27;his&#x27;, &#x27;himself&#x27;, &#x27;she&#x27;, &quot;she&#x27;s&quot;,\n",
              "                            &#x27;her&#x27;, &#x27;hers&#x27;, &#x27;herself&#x27;, &#x27;it&#x27;, &quot;it&#x27;s&quot;, &#x27;its&#x27;,\n",
              "                            &#x27;itself&#x27;, ...],\n",
              "                tokenizer=&lt;function tokenize at 0x7e1c48eca4d0&gt;)</pre><b>In a Jupyter environment, please rerun this cell to show the HTML representation or trust the notebook. <br />On GitHub, the HTML representation is unable to render, please try loading this page with nbviewer.org.</b></div><div class=\"sk-container\" hidden><div class=\"sk-item\"><div class=\"sk-estimator sk-toggleable\"><input class=\"sk-toggleable__control sk-hidden--visually\" id=\"sk-estimator-id-1\" type=\"checkbox\" checked><label for=\"sk-estimator-id-1\" class=\"sk-toggleable__label sk-toggleable__label-arrow\">CountVectorizer</label><div class=\"sk-toggleable__content\"><pre>CountVectorizer(max_features=1000,\n",
              "                stop_words=[&#x27;i&#x27;, &#x27;me&#x27;, &#x27;my&#x27;, &#x27;myself&#x27;, &#x27;we&#x27;, &#x27;our&#x27;, &#x27;ours&#x27;,\n",
              "                            &#x27;ourselves&#x27;, &#x27;you&#x27;, &quot;you&#x27;re&quot;, &quot;you&#x27;ve&quot;, &quot;you&#x27;ll&quot;,\n",
              "                            &quot;you&#x27;d&quot;, &#x27;your&#x27;, &#x27;yours&#x27;, &#x27;yourself&#x27;, &#x27;yourselves&#x27;,\n",
              "                            &#x27;he&#x27;, &#x27;him&#x27;, &#x27;his&#x27;, &#x27;himself&#x27;, &#x27;she&#x27;, &quot;she&#x27;s&quot;,\n",
              "                            &#x27;her&#x27;, &#x27;hers&#x27;, &#x27;herself&#x27;, &#x27;it&#x27;, &quot;it&#x27;s&quot;, &#x27;its&#x27;,\n",
              "                            &#x27;itself&#x27;, ...],\n",
              "                tokenizer=&lt;function tokenize at 0x7e1c48eca4d0&gt;)</pre></div></div></div></div></div>"
            ]
          },
          "metadata": {},
          "execution_count": 26
        }
      ],
      "source": [
        "# Use only small data only first 10000 samples for training and validation\n",
        "\n",
        "vectorizer.fit(train['question_text'][:10000])"
      ]
    },
    {
      "cell_type": "code",
      "execution_count": 27,
      "metadata": {
        "id": "JiuYsyDUVt95"
      },
      "outputs": [],
      "source": [
        "data = vectorizer.transform(train['question_text'][:10000])"
      ]
    },
    {
      "cell_type": "code",
      "execution_count": 28,
      "metadata": {
        "id": "EZXcS_D9Vt95",
        "outputId": "5020e07e-f610-46c0-f116-61c12d81829e",
        "colab": {
          "base_uri": "https://localhost:8080/"
        }
      },
      "outputs": [
        {
          "output_type": "execute_result",
          "data": {
            "text/plain": [
              "(10000, 1000)"
            ]
          },
          "metadata": {},
          "execution_count": 28
        }
      ],
      "source": [
        "data.shape"
      ]
    },
    {
      "cell_type": "code",
      "execution_count": 29,
      "metadata": {
        "id": "5edD2DgGVt95",
        "outputId": "b1911804-fe79-4e1e-dfb8-d7dd53cffba7",
        "colab": {
          "base_uri": "https://localhost:8080/"
        }
      },
      "outputs": [
        {
          "output_type": "stream",
          "name": "stdout",
          "text": [
            "<class 'scipy.sparse._csr.csr_matrix'>\n"
          ]
        }
      ],
      "source": [
        "print(type(data))"
      ]
    },
    {
      "cell_type": "code",
      "execution_count": 30,
      "metadata": {
        "id": "cn0pRx4jVt95",
        "outputId": "df979b04-7d4c-446a-d43d-715852e8da87",
        "colab": {
          "base_uri": "https://localhost:8080/"
        }
      },
      "outputs": [
        {
          "output_type": "execute_result",
          "data": {
            "text/plain": [
              "(10000, 1000)"
            ]
          },
          "metadata": {},
          "execution_count": 30
        }
      ],
      "source": [
        "data_array = data.toarray()\n",
        "data_array.shape"
      ]
    },
    {
      "cell_type": "code",
      "execution_count": 31,
      "metadata": {
        "id": "VJnLNmdDVt95"
      },
      "outputs": [],
      "source": [
        "target_array = np.array(train['target'][:10000]).reshape(-1,1)"
      ]
    },
    {
      "cell_type": "code",
      "execution_count": 32,
      "metadata": {
        "id": "XN5fcOfvVt95",
        "outputId": "b3ce5b49-1f6d-4cd2-8956-45cbb1b46ff6",
        "colab": {
          "base_uri": "https://localhost:8080/"
        }
      },
      "outputs": [
        {
          "output_type": "execute_result",
          "data": {
            "text/plain": [
              "(10000, 1)"
            ]
          },
          "metadata": {},
          "execution_count": 32
        }
      ],
      "source": [
        "target_array.shape"
      ]
    },
    {
      "cell_type": "code",
      "execution_count": 33,
      "metadata": {
        "id": "nFLe_kgtVt96",
        "outputId": "5f4ddc47-9fcd-4958-e53b-73741eff6f5f",
        "colab": {
          "base_uri": "https://localhost:8080/"
        }
      },
      "outputs": [
        {
          "output_type": "stream",
          "name": "stdout",
          "text": [
            "Training set shape: (8000, 1000)\n",
            "Validation set shape: (2000, 1000)\n"
          ]
        }
      ],
      "source": [
        "train, val, train_label, val_label = train_test_split(data_array, target_array, test_size=0.2, random_state=42)\n",
        "\n",
        "print('Training set shape:', train.shape)\n",
        "print('Validation set shape:', val.shape)"
      ]
    },
    {
      "cell_type": "markdown",
      "metadata": {
        "id": "lAgqpq7IVt96"
      },
      "source": [
        "# $\\textbf{Logistic Regression for text classification}$"
      ]
    },
    {
      "cell_type": "code",
      "execution_count": 34,
      "metadata": {
        "id": "O_WxXG_GVt96",
        "outputId": "6984e308-568c-4d9b-9ffa-b5e42c5c2fb5",
        "colab": {
          "base_uri": "https://localhost:8080/"
        }
      },
      "outputs": [
        {
          "output_type": "stream",
          "name": "stdout",
          "text": [
            "Accuracy for validation data 0.943\n",
            "F1 score for validation data 0.3804347826086957\n"
          ]
        }
      ],
      "source": [
        "from sklearn.linear_model import LogisticRegression\n",
        "\n",
        "model = LogisticRegression()\n",
        "\n",
        "model.fit(train, train_label.reshape(-1))\n",
        "\n",
        "val_pred = model.predict(val)\n",
        "\n",
        "from sklearn.metrics import accuracy_score, f1_score\n",
        "\n",
        "print('Accuracy for validation data', accuracy_score(val_label, val_pred))\n",
        "print('F1 score for validation data', f1_score(val_label, val_pred))"
      ]
    },
    {
      "cell_type": "markdown",
      "metadata": {
        "id": "rGVTYDMjVt96"
      },
      "source": [
        "# $\\textbf{Data Loader for the text data}$"
      ]
    },
    {
      "cell_type": "code",
      "execution_count": 35,
      "metadata": {
        "id": "cJUL6QZzVt96"
      },
      "outputs": [],
      "source": [
        "train_dataset = []\n",
        "\n",
        "for i in range(8000):\n",
        "    train_dataset.append((train[i], train_label[i][0]))"
      ]
    },
    {
      "cell_type": "code",
      "execution_count": 36,
      "metadata": {
        "id": "1Xp5N7F1Vt96"
      },
      "outputs": [],
      "source": [
        "val_dataset = []\n",
        "\n",
        "for i in range(2000):\n",
        "    val_dataset.append((val[i], val_label[i][0]))"
      ]
    },
    {
      "cell_type": "code",
      "execution_count": 37,
      "metadata": {
        "id": "gBUdA3UPVt96"
      },
      "outputs": [],
      "source": [
        "import torch\n",
        "from torch import nn\n",
        "from torch.utils.data import DataLoader"
      ]
    },
    {
      "cell_type": "code",
      "execution_count": 38,
      "metadata": {
        "id": "EZztcPP2Vt97"
      },
      "outputs": [],
      "source": [
        "# Create a DataLoader\n",
        "train_dataloader = DataLoader(train_dataset, batch_size = 32, shuffle = True)\n",
        "val_dataloader = DataLoader(val_dataset, batch_size = 32, shuffle = True)"
      ]
    },
    {
      "cell_type": "code",
      "execution_count": 39,
      "metadata": {
        "id": "Gyn0hj9xVt97",
        "outputId": "3fcc2ad8-d081-4555-dbd3-a583b7286456",
        "colab": {
          "base_uri": "https://localhost:8080/"
        }
      },
      "outputs": [
        {
          "output_type": "stream",
          "name": "stdout",
          "text": [
            "torch.Size([32, 1000])\n",
            "torch.Size([32])\n"
          ]
        }
      ],
      "source": [
        "for x, y in train_dataloader:\n",
        "    print(x.shape)\n",
        "    print(y.shape)\n",
        "    break"
      ]
    },
    {
      "cell_type": "code",
      "source": [
        "x, y = next(iter(train_dataloader))\n",
        "print(x.shape, y.shape)"
      ],
      "metadata": {
        "id": "gFwTjMYyu23z",
        "colab": {
          "base_uri": "https://localhost:8080/"
        },
        "outputId": "d7683384-8a0f-4617-db14-3056cd3180bb"
      },
      "execution_count": 40,
      "outputs": [
        {
          "output_type": "stream",
          "name": "stdout",
          "text": [
            "torch.Size([32, 1000]) torch.Size([32])\n"
          ]
        }
      ]
    },
    {
      "cell_type": "markdown",
      "metadata": {
        "id": "ch2le0gPVt97"
      },
      "source": [
        "# $\\textbf{Neural Network for text classification}$"
      ]
    },
    {
      "cell_type": "code",
      "execution_count": 41,
      "metadata": {
        "id": "FEDmJwutVt97"
      },
      "outputs": [],
      "source": [
        "class classifier(nn.Module):\n",
        "    def __init__(self, input_dim, output_dim):\n",
        "        super().__init__()\n",
        "\n",
        "        self.network = nn.Sequential(\n",
        "                                        nn.Linear(in_features = input_dim, out_features = 800),     # 1st Hidden layer\n",
        "                                        nn.ReLU(),\n",
        "                                        nn.Dropout(p = 0.50),\n",
        "                                        nn.Linear(in_features = 800, out_features = 400),           # 2nd Hidden layer\n",
        "                                        nn.ReLU(),\n",
        "                                        nn.Dropout(p = 0.50),\n",
        "                                        nn.Linear(in_features = 400, out_features = output_dim),\n",
        "                                        nn.Sigmoid()\n",
        "                                                        )\n",
        "\n",
        "    def forward(self, x):\n",
        "        return self.network(x)"
      ]
    },
    {
      "cell_type": "code",
      "execution_count": 42,
      "metadata": {
        "id": "rhliBDwMVt97"
      },
      "outputs": [],
      "source": [
        "model = classifier(input_dim = 1000, output_dim = 2)\n",
        "\n",
        "optimizer = torch.optim.SGD(params = model.parameters(), lr = 0.00009)\n",
        "\n",
        "loss_fn = torch.nn.BCELoss()"
      ]
    },
    {
      "cell_type": "code",
      "execution_count": 43,
      "metadata": {
        "id": "zjpQi4ZoVt97",
        "outputId": "a5ace3ef-8063-46b0-9693-041c3ce7dca2",
        "colab": {
          "base_uri": "https://localhost:8080/"
        }
      },
      "outputs": [
        {
          "output_type": "stream",
          "name": "stdout",
          "text": [
            "Epoch:0 Train loss: 0.6900 Train accuracy: 0.74 Val loss: 0.6891 Val accuracy: 0.94\n",
            "Epoch:1 Train loss: 0.6877 Train accuracy: 0.93 Val loss: 0.6863 Val accuracy: 0.94\n",
            "Epoch:2 Train loss: 0.6850 Train accuracy: 0.94 Val loss: 0.6835 Val accuracy: 0.94\n",
            "Epoch:3 Train loss: 0.6822 Train accuracy: 0.94 Val loss: 0.6808 Val accuracy: 0.94\n",
            "Epoch:4 Train loss: 0.6795 Train accuracy: 0.94 Val loss: 0.6781 Val accuracy: 0.94\n",
            "Epoch:5 Train loss: 0.6769 Train accuracy: 0.94 Val loss: 0.6753 Val accuracy: 0.94\n",
            "Epoch:6 Train loss: 0.6742 Train accuracy: 0.94 Val loss: 0.6727 Val accuracy: 0.94\n",
            "Epoch:7 Train loss: 0.6716 Train accuracy: 0.94 Val loss: 0.6700 Val accuracy: 0.94\n",
            "Epoch:8 Train loss: 0.6689 Train accuracy: 0.94 Val loss: 0.6673 Val accuracy: 0.94\n",
            "Epoch:9 Train loss: 0.6663 Train accuracy: 0.94 Val loss: 0.6647 Val accuracy: 0.94\n",
            "Epoch:10 Train loss: 0.6637 Train accuracy: 0.94 Val loss: 0.6621 Val accuracy: 0.94\n",
            "Epoch:11 Train loss: 0.6612 Train accuracy: 0.94 Val loss: 0.6595 Val accuracy: 0.94\n",
            "Epoch:12 Train loss: 0.6586 Train accuracy: 0.94 Val loss: 0.6569 Val accuracy: 0.94\n",
            "Epoch:13 Train loss: 0.6561 Train accuracy: 0.94 Val loss: 0.6544 Val accuracy: 0.94\n",
            "Epoch:14 Train loss: 0.6535 Train accuracy: 0.94 Val loss: 0.6518 Val accuracy: 0.94\n",
            "Epoch:15 Train loss: 0.6510 Train accuracy: 0.94 Val loss: 0.6493 Val accuracy: 0.94\n",
            "Epoch:16 Train loss: 0.6485 Train accuracy: 0.94 Val loss: 0.6468 Val accuracy: 0.94\n",
            "Epoch:17 Train loss: 0.6461 Train accuracy: 0.94 Val loss: 0.6443 Val accuracy: 0.94\n",
            "Epoch:18 Train loss: 0.6436 Train accuracy: 0.94 Val loss: 0.6418 Val accuracy: 0.94\n",
            "Epoch:19 Train loss: 0.6412 Train accuracy: 0.94 Val loss: 0.6395 Val accuracy: 0.94\n"
          ]
        }
      ],
      "source": [
        "def accuracy_fn(y_pred,y):\n",
        "    return torch.sum(y_pred == y)/len(y)\n",
        "\n",
        "epochs = 20\n",
        "\n",
        "val_ac = []\n",
        "train_ac = []\n",
        "val_lo = []\n",
        "train_lo = []\n",
        "\n",
        "for epoch in range(epochs):\n",
        "\n",
        "    train_loss = 0\n",
        "    train_acc = 0\n",
        "\n",
        "    for x, y in train_dataloader:\n",
        "        # print(x.shape, y.shape)\n",
        "        x = x.unsqueeze(dim = 1).to(dtype = torch.float32)\n",
        "        # print(x.shape, y.shape)\n",
        "        y_probs = model(x)\n",
        "\n",
        "        y_true = torch.zeros(y_probs.shape)\n",
        "\n",
        "        for i in range(y_true.size(0)):\n",
        "            y_true[i, 0, y[i]] = 1\n",
        "\n",
        "        loss = loss_fn(y_probs, y_true)\n",
        "        train_loss += loss\n",
        "\n",
        "        y_pred = torch.argmax(y_probs, dim = -1)\n",
        "        y_pred = y_pred.view(-1)\n",
        "\n",
        "        train_acc +=  accuracy_fn(y_pred, y)\n",
        "\n",
        "        optimizer.zero_grad()\n",
        "        loss.backward()\n",
        "        optimizer.step()\n",
        "\n",
        "    train_loss /= len(train_dataloader)   # Average loss per batch\n",
        "    train_acc  /= len(train_dataloader)   # Average Accuracy per batch\n",
        "\n",
        "    train_lo.append(train_loss)\n",
        "    train_ac.append(train_acc)\n",
        "\n",
        "    model.eval()\n",
        "\n",
        "    with torch.inference_mode():\n",
        "\n",
        "        val_loss = 0\n",
        "        val_acc = 0\n",
        "\n",
        "        for x, y in val_dataloader:\n",
        "\n",
        "            x = x.unsqueeze(dim = 1).to(dtype = torch.float32)\n",
        "\n",
        "            y_probs = model(x)\n",
        "\n",
        "            y_true = torch.zeros(y_probs.shape)\n",
        "\n",
        "            for i in range(y_true.size(0)):\n",
        "                y_true[i, 0, y[i]] = 1\n",
        "\n",
        "            loss = loss_fn(y_probs, y_true)\n",
        "            val_loss += loss\n",
        "\n",
        "            y_pred = torch.argmax(y_probs, dim = -1)\n",
        "            y_pred = y_pred.view(-1)\n",
        "\n",
        "            val_acc +=  accuracy_fn(y_pred, y)\n",
        "\n",
        "        val_loss /= len(val_dataloader)   # Average loss per batch\n",
        "        val_acc  /= len(val_dataloader)   # Average Accuracy per batch\n",
        "\n",
        "        val_lo.append(val_loss)\n",
        "        val_ac.append(val_acc)\n",
        "\n",
        "    print(f'Epoch:{epoch} Train loss:{train_loss: .4f} Train accuracy:{train_acc: .2f} Val loss:{val_loss: .4f} Val accuracy:{val_acc: .2f}')"
      ]
    },
    {
      "cell_type": "code",
      "execution_count": 44,
      "metadata": {
        "id": "K2nO618gVt98"
      },
      "outputs": [],
      "source": [
        "train_loss = [tensor.item() for tensor in train_lo]\n",
        "val_loss = [tensor.item() for tensor in val_lo]"
      ]
    },
    {
      "cell_type": "code",
      "execution_count": 45,
      "metadata": {
        "id": "kwCI8K42Vt98",
        "outputId": "042460ee-7849-4e2f-f077-9342374e1312",
        "colab": {
          "base_uri": "https://localhost:8080/",
          "height": 472
        }
      },
      "outputs": [
        {
          "output_type": "display_data",
          "data": {
            "text/plain": [
              "<Figure size 640x480 with 1 Axes>"
            ],
            "image/png": "[encoded data removed]"
          },
          "metadata": {}
        }
      ],
      "source": [
        "import matplotlib.pyplot as plt\n",
        "\n",
        "plt.plot(np.arange(epochs), val_loss, label = 'Validation Loss')\n",
        "plt.plot(np.arange(epochs), train_loss, label = 'Train Loss')\n",
        "plt.xlabel('Epoch Number')\n",
        "plt.ylabel('Accuracy')\n",
        "plt.title('Loss at every epoch')\n",
        "plt.legend(loc = 'upper right')\n",
        "plt.show()"
      ]
    },
    {
      "cell_type": "code",
      "execution_count": 46,
      "metadata": {
        "id": "rT8bW73fVt98",
        "outputId": "bc93a2e5-8473-47f8-f3a2-c0eddcf8e288",
        "colab": {
          "base_uri": "https://localhost:8080/",
          "height": 472
        }
      },
      "outputs": [
        {
          "output_type": "display_data",
          "data": {
            "text/plain": [
              "<Figure size 640x480 with 1 Axes>"
            ],
            "image/png": "[encoded data removed]"
          },
          "metadata": {}
        }
      ],
      "source": [
        "import matplotlib.pyplot as plt\n",
        "\n",
        "plt.plot(np.arange(epochs), val_ac, label = 'Validation Accuracy')\n",
        "plt.plot(np.arange(epochs), train_ac, label = 'Training Accuracy')\n",
        "plt.xlabel('Epoch Number')\n",
        "plt.ylabel('Accuracy')\n",
        "plt.title('Accuracy at every epoch')\n",
        "plt.legend(loc = 'upper left')\n",
        "plt.show()"
      ]
    },
    {
      "cell_type": "markdown",
      "metadata": {
        "id": "HbFbOucnVt98"
      },
      "source": [
        "$\\textbf{Exercise Now making data matrix from TF-IDF Vectorization technique}$"
      ]
    },
    {
      "cell_type": "code",
      "execution_count": 47,
      "metadata": {
        "id": "ryZpMfgHVt99",
        "colab": {
          "base_uri": "https://localhost:8080/",
          "height": 363
        },
        "outputId": "b5dc7dbe-dce5-40a6-a793-ae73aa9ccd45"
      },
      "outputs": [
        {
          "output_type": "execute_result",
          "data": {
            "text/plain": [
              "                    qid                                      question_text  \\\n",
              "0  8a8bb8be80262bea774e                           How was Pokki developed?   \n",
              "1  43dc341bd3f8f6d2a4e7  What is the difference between project managem...   \n",
              "2  ff8775bebd87837d268a  What is the training schedule for the ASO in CSS?   \n",
              "3  a3a68c0ff5e3c2245793  What are the key skills people from non-financ...   \n",
              "4  e37c5b62ed2f6aa5bd5a                          Who is the strongest god?   \n",
              "5  db9ef36f2dad3d569a32              Who was the founder of petrol engine?   \n",
              "6  a56b9eefc8781d25c930  Can you hear the speech of Dr.rajendra Prasad,...   \n",
              "7  2f7268607f274213769a                                 Show me passwords?   \n",
              "8  5b7e58ff006b1cc1ab31  Are there men in Western countries who are alw...   \n",
              "9  cad0fa6ff1d8a0fde471  If you love someone from many years but she do...   \n",
              "\n",
              "   target  \n",
              "0       0  \n",
              "1       0  \n",
              "2       0  \n",
              "3       0  \n",
              "4       0  \n",
              "5       0  \n",
              "6       0  \n",
              "7       0  \n",
              "8       0  \n",
              "9       0  "
            ],
            "text/html": [
              "\n",
              "  <div id=\"df-9f82ecc0-16cd-493f-9361-0eaf5d10ae41\" class=\"colab-df-container\">\n",
              "    <div>\n",
              "<style scoped>\n",
              "    .dataframe tbody tr th:only-of-type {\n",
              "        vertical-align: middle;\n",
              "    }\n",
              "\n",
              "    .dataframe tbody tr th {\n",
              "        vertical-align: top;\n",
              "    }\n",
              "\n",
              "    .dataframe thead th {\n",
              "        text-align: right;\n",
              "    }\n",
              "</style>\n",
              "<table border=\"1\" class=\"dataframe\">\n",
              "  <thead>\n",
              "    <tr style=\"text-align: right;\">\n",
              "      <th></th>\n",
              "      <th>qid</th>\n",
              "      <th>question_text</th>\n",
              "      <th>target</th>\n",
              "    </tr>\n",
              "  </thead>\n",
              "  <tbody>\n",
              "    <tr>\n",
              "      <th>0</th>\n",
              "      <td>8a8bb8be80262bea774e</td>\n",
              "      <td>How was Pokki developed?</td>\n",
              "      <td>0</td>\n",
              "    </tr>\n",
              "    <tr>\n",
              "      <th>1</th>\n",
              "      <td>43dc341bd3f8f6d2a4e7</td>\n",
              "      <td>What is the difference between project managem...</td>\n",
              "      <td>0</td>\n",
              "    </tr>\n",
              "    <tr>\n",
              "      <th>2</th>\n",
              "      <td>ff8775bebd87837d268a</td>\n",
              "      <td>What is the training schedule for the ASO in CSS?</td>\n",
              "      <td>0</td>\n",
              "    </tr>\n",
              "    <tr>\n",
              "      <th>3</th>\n",
              "      <td>a3a68c0ff5e3c2245793</td>\n",
              "      <td>What are the key skills people from non-financ...</td>\n",
              "      <td>0</td>\n",
              "    </tr>\n",
              "    <tr>\n",
              "      <th>4</th>\n",
              "      <td>e37c5b62ed2f6aa5bd5a</td>\n",
              "      <td>Who is the strongest god?</td>\n",
              "      <td>0</td>\n",
              "    </tr>\n",
              "    <tr>\n",
              "      <th>5</th>\n",
              "      <td>db9ef36f2dad3d569a32</td>\n",
              "      <td>Who was the founder of petrol engine?</td>\n",
              "      <td>0</td>\n",
              "    </tr>\n",
              "    <tr>\n",
              "      <th>6</th>\n",
              "      <td>a56b9eefc8781d25c930</td>\n",
              "      <td>Can you hear the speech of Dr.rajendra Prasad,...</td>\n",
              "      <td>0</td>\n",
              "    </tr>\n",
              "    <tr>\n",
              "      <th>7</th>\n",
              "      <td>2f7268607f274213769a</td>\n",
              "      <td>Show me passwords?</td>\n",
              "      <td>0</td>\n",
              "    </tr>\n",
              "    <tr>\n",
              "      <th>8</th>\n",
              "      <td>5b7e58ff006b1cc1ab31</td>\n",
              "      <td>Are there men in Western countries who are alw...</td>\n",
              "      <td>0</td>\n",
              "    </tr>\n",
              "    <tr>\n",
              "      <th>9</th>\n",
              "      <td>cad0fa6ff1d8a0fde471</td>\n",
              "      <td>If you love someone from many years but she do...</td>\n",
              "      <td>0</td>\n",
              "    </tr>\n",
              "  </tbody>\n",
              "</table>\n",
              "</div>\n",
              "    <div class=\"colab-df-buttons\">\n",
              "\n",
              "  <div class=\"colab-df-container\">\n",
              "    <button class=\"colab-df-convert\" onclick=\"convertToInteractive('df-9f82ecc0-16cd-493f-9361-0eaf5d10ae41')\"\n",
              "            title=\"Convert this dataframe to an interactive table.\"\n",
              "            style=\"display:none;\">\n",
              "\n",
              "  <svg xmlns=\"http://www.w3.org/2000/svg\" height=\"24px\" viewBox=\"0 -960 960 960\">\n",
              "    <path d=\"M120-120v-720h720v720H120Zm60-500h600v-160H180v160Zm220 220h160v-160H400v160Zm0 220h160v-160H400v160ZM180-400h160v-160H180v160Zm440 0h160v-160H620v160ZM180-180h160v-160H180v160Zm440 0h160v-160H620v160Z\"/>\n",
              "  </svg>\n",
              "    </button>\n",
              "\n",
              "  <style>\n",
              "    .colab-df-container {\n",
              "      display:flex;\n",
              "      gap: 12px;\n",
              "    }\n",
              "\n",
              "    .colab-df-convert {\n",
              "      background-color: #E8F0FE;\n",
              "      border: none;\n",
              "      border-radius: 50%;\n",
              "      cursor: pointer;\n",
              "      display: none;\n",
              "      fill: #1967D2;\n",
              "      height: 32px;\n",
              "      padding: 0 0 0 0;\n",
              "      width: 32px;\n",
              "    }\n",
              "\n",
              "    .colab-df-convert:hover {\n",
              "      background-color: #E2EBFA;\n",
              "      box-shadow: 0px 1px 2px rgba(60, 64, 67, 0.3), 0px 1px 3px 1px rgba(60, 64, 67, 0.15);\n",
              "      fill: #174EA6;\n",
              "    }\n",
              "\n",
              "    .colab-df-buttons div {\n",
              "      margin-bottom: 4px;\n",
              "    }\n",
              "\n",
              "    [theme=dark] .colab-df-convert {\n",
              "      background-color: #3B4455;\n",
              "      fill: #D2E3FC;\n",
              "    }\n",
              "\n",
              "    [theme=dark] .colab-df-convert:hover {\n",
              "      background-color: #434B5C;\n",
              "      box-shadow: 0px 1px 3px 1px rgba(0, 0, 0, 0.15);\n",
              "      filter: drop-shadow(0px 1px 2px rgba(0, 0, 0, 0.3));\n",
              "      fill: #FFFFFF;\n",
              "    }\n",
              "  </style>\n",
              "\n",
              "    <script>\n",
              "      const buttonEl =\n",
              "        document.querySelector('#df-9f82ecc0-16cd-493f-9361-0eaf5d10ae41 button.colab-df-convert');\n",
              "      buttonEl.style.display =\n",
              "        google.colab.kernel.accessAllowed ? 'block' : 'none';\n",
              "\n",
              "      async function convertToInteractive(key) {\n",
              "        const element = document.querySelector('#df-9f82ecc0-16cd-493f-9361-0eaf5d10ae41');\n",
              "        const dataTable =\n",
              "          await google.colab.kernel.invokeFunction('convertToInteractive',\n",
              "                                                    [key], {});\n",
              "        if (!dataTable) return;\n",
              "\n",
              "        const docLinkHtml = 'Like what you see? Visit the ' +\n",
              "          '<a target=\"_blank\" href=https://colab.research.google.com/notebooks/data_table.ipynb>data table notebook</a>'\n",
              "          + ' to learn more about interactive tables.';\n",
              "        element.innerHTML = '';\n",
              "        dataTable['output_type'] = 'display_data';\n",
              "        await google.colab.output.renderOutput(dataTable, element);\n",
              "        const docLink = document.createElement('div');\n",
              "        docLink.innerHTML = docLinkHtml;\n",
              "        element.appendChild(docLink);\n",
              "      }\n",
              "    </script>\n",
              "  </div>\n",
              "\n",
              "\n",
              "<div id=\"df-3f9d5170-4b22-4315-9603-99e7bc7436be\">\n",
              "  <button class=\"colab-df-quickchart\" onclick=\"quickchart('df-3f9d5170-4b22-4315-9603-99e7bc7436be')\"\n",
              "            title=\"Suggest charts\"\n",
              "            style=\"display:none;\">\n",
              "\n",
              "<svg xmlns=\"http://www.w3.org/2000/svg\" height=\"24px\"viewBox=\"0 0 24 24\"\n",
              "     width=\"24px\">\n",
              "    <g>\n",
              "        <path d=\"M19 3H5c-1.1 0-2 .9-2 2v14c0 1.1.9 2 2 2h14c1.1 0 2-.9 2-2V5c0-1.1-.9-2-2-2zM9 17H7v-7h2v7zm4 0h-2V7h2v10zm4 0h-2v-4h2v4z\"/>\n",
              "    </g>\n",
              "</svg>\n",
              "  </button>\n",
              "\n",
              "<style>\n",
              "  .colab-df-quickchart {\n",
              "      --bg-color: #E8F0FE;\n",
              "      --fill-color: #1967D2;\n",
              "      --hover-bg-color: #E2EBFA;\n",
              "      --hover-fill-color: #174EA6;\n",
              "      --disabled-fill-color: #AAA;\n",
              "      --disabled-bg-color: #DDD;\n",
              "  }\n",
              "\n",
              "  [theme=dark] .colab-df-quickchart {\n",
              "      --bg-color: #3B4455;\n",
              "      --fill-color: #D2E3FC;\n",
              "      --hover-bg-color: #434B5C;\n",
              "      --hover-fill-color: #FFFFFF;\n",
              "      --disabled-bg-color: #3B4455;\n",
              "      --disabled-fill-color: #666;\n",
              "  }\n",
              "\n",
              "  .colab-df-quickchart {\n",
              "    background-color: var(--bg-color);\n",
              "    border: none;\n",
              "    border-radius: 50%;\n",
              "    cursor: pointer;\n",
              "    display: none;\n",
              "    fill: var(--fill-color);\n",
              "    height: 32px;\n",
              "    padding: 0;\n",
              "    width: 32px;\n",
              "  }\n",
              "\n",
              "  .colab-df-quickchart:hover {\n",
              "    background-color: var(--hover-bg-color);\n",
              "    box-shadow: 0 1px 2px rgba(60, 64, 67, 0.3), 0 1px 3px 1px rgba(60, 64, 67, 0.15);\n",
              "    fill: var(--button-hover-fill-color);\n",
              "  }\n",
              "\n",
              "  .colab-df-quickchart-complete:disabled,\n",
              "  .colab-df-quickchart-complete:disabled:hover {\n",
              "    background-color: var(--disabled-bg-color);\n",
              "    fill: var(--disabled-fill-color);\n",
              "    box-shadow: none;\n",
              "  }\n",
              "\n",
              "  .colab-df-spinner {\n",
              "    border: 2px solid var(--fill-color);\n",
              "    border-color: transparent;\n",
              "    border-bottom-color: var(--fill-color);\n",
              "    animation:\n",
              "      spin 1s steps(1) infinite;\n",
              "  }\n",
              "\n",
              "  @keyframes spin {\n",
              "    0% {\n",
              "      border-color: transparent;\n",
              "      border-bottom-color: var(--fill-color);\n",
              "      border-left-color: var(--fill-color);\n",
              "    }\n",
              "    20% {\n",
              "      border-color: transparent;\n",
              "      border-left-color: var(--fill-color);\n",
              "      border-top-color: var(--fill-color);\n",
              "    }\n",
              "    30% {\n",
              "      border-color: transparent;\n",
              "      border-left-color: var(--fill-color);\n",
              "      border-top-color: var(--fill-color);\n",
              "      border-right-color: var(--fill-color);\n",
              "    }\n",
              "    40% {\n",
              "      border-color: transparent;\n",
              "      border-right-color: var(--fill-color);\n",
              "      border-top-color: var(--fill-color);\n",
              "    }\n",
              "    60% {\n",
              "      border-color: transparent;\n",
              "      border-right-color: var(--fill-color);\n",
              "    }\n",
              "    80% {\n",
              "      border-color: transparent;\n",
              "      border-right-color: var(--fill-color);\n",
              "      border-bottom-color: var(--fill-color);\n",
              "    }\n",
              "    90% {\n",
              "      border-color: transparent;\n",
              "      border-bottom-color: var(--fill-color);\n",
              "    }\n",
              "  }\n",
              "</style>\n",
              "\n",
              "  <script>\n",
              "    async function quickchart(key) {\n",
              "      const quickchartButtonEl =\n",
              "        document.querySelector('#' + key + ' button');\n",
              "      quickchartButtonEl.disabled = true;  // To prevent multiple clicks.\n",
              "      quickchartButtonEl.classList.add('colab-df-spinner');\n",
              "      try {\n",
              "        const charts = await google.colab.kernel.invokeFunction(\n",
              "            'suggestCharts', [key], {});\n",
              "      } catch (error) {\n",
              "        console.error('Error during call to suggestCharts:', error);\n",
              "      }\n",
              "      quickchartButtonEl.classList.remove('colab-df-spinner');\n",
              "      quickchartButtonEl.classList.add('colab-df-quickchart-complete');\n",
              "    }\n",
              "    (() => {\n",
              "      let quickchartButtonEl =\n",
              "        document.querySelector('#df-3f9d5170-4b22-4315-9603-99e7bc7436be button');\n",
              "      quickchartButtonEl.style.display =\n",
              "        google.colab.kernel.accessAllowed ? 'block' : 'none';\n",
              "    })();\n",
              "  </script>\n",
              "</div>\n",
              "\n",
              "    </div>\n",
              "  </div>\n"
            ],
            "application/vnd.google.colaboratory.intrinsic+json": {
              "type": "dataframe",
              "variable_name": "train"
            }
          },
          "metadata": {},
          "execution_count": 47
        }
      ],
      "source": [
        "train_path = '/content/train.csv'\n",
        "\n",
        "train = pd.read_csv(train_path)\n",
        "\n",
        "# Shuffle the DataFrame\n",
        "\n",
        "train = train.sample(frac = 1).reset_index(drop = True)\n",
        "train.head(10)"
      ]
    },
    {
      "cell_type": "code",
      "execution_count": null,
      "metadata": {
        "id": "YKhpT20-Vt99"
      },
      "outputs": [],
      "source": [
        "from sklearn.feature_extraction.text import TfidfVectorizer"
      ]
    },
    {
      "cell_type": "code",
      "execution_count": null,
      "metadata": {
        "id": "mhmLoGWcVt99"
      },
      "outputs": [],
      "source": [
        "def remove_stopwords(tokens):\n",
        "    return [word for word in tokens if word.lower() not in english_stopwords]\n",
        "\n",
        "def tokenize(text):\n",
        "\n",
        "    # Tokenize the words\n",
        "    tokens = nltk.word_tokenize(text)\n",
        "\n",
        "    tokens = remove_stopwords(tokens)\n",
        "\n",
        "    # Lemmatize each token\n",
        "    lemmatized_tokens = [lemmatizer.lemmatize(token.lower()) for token in tokens]\n",
        "\n",
        "    return lemmatized_tokens"
      ]
    },
    {
      "cell_type": "code",
      "execution_count": null,
      "metadata": {
        "id": "-jhLRD6oVt99"
      },
      "outputs": [],
      "source": [
        "vectorizer = TfidfVectorizer(lowercase = True, tokenizer= tokenize,\n",
        "                            stop_words = english_stopwords,\n",
        "                            max_features = 1000)"
      ]
    },
    {
      "cell_type": "code",
      "execution_count": null,
      "metadata": {
        "id": "4zosZsGLVt9-",
        "outputId": "5dfa76a3-5462-4f60-8f47-4c24ce3354ca"
      },
      "outputs": [
        {
          "name": "stdout",
          "output_type": "stream",
          "text": [
            "(10000, 1000)\n"
          ]
        },
        {
          "data": {
            "text/plain": [
              "scipy.sparse._csr.csr_matrix"
            ]
          },
          "execution_count": 186,
          "metadata": {},
          "output_type": "execute_result"
        }
      ],
      "source": [
        "# Use only samll data only first 10000 samples for training and validation\n",
        "vectorizer.fit(train['question_text'][:10000])\n",
        "\n",
        "data = vectorizer.transform(train['question_text'][:10000])\n",
        "print(data.shape)\n",
        "type(data)"
      ]
    },
    {
      "cell_type": "markdown",
      "metadata": {
        "id": "MpR-wQ86Vt9-"
      },
      "source": [
        "This is Tfidf Data array"
      ]
    },
    {
      "cell_type": "code",
      "execution_count": null,
      "metadata": {
        "id": "4Bgz3-txVt9-",
        "outputId": "61fa161b-6d35-42af-bd32-567ff45434d5"
      },
      "outputs": [
        {
          "data": {
            "text/plain": [
              "(10000, 1000)"
            ]
          },
          "execution_count": 187,
          "metadata": {},
          "output_type": "execute_result"
        }
      ],
      "source": [
        "data_array = data[:10000].toarray()\n",
        "data_array.shape"
      ]
    },
    {
      "cell_type": "code",
      "execution_count": null,
      "metadata": {
        "id": "7pGRRgc8Vt9_",
        "outputId": "6cea9db7-a04a-49a2-a607-194cdd331bc9"
      },
      "outputs": [
        {
          "data": {
            "text/plain": [
              "(10000, 1)"
            ]
          },
          "execution_count": 189,
          "metadata": {},
          "output_type": "execute_result"
        }
      ],
      "source": [
        "target_array = np.array(train['target'][:10000]).reshape(-1,1)\n",
        "target_array.shape"
      ]
    },
    {
      "cell_type": "code",
      "execution_count": null,
      "metadata": {
        "id": "jyihWGBjVt9_",
        "outputId": "c4402331-7ae0-4cac-83e3-f05c490ee80b"
      },
      "outputs": [
        {
          "name": "stdout",
          "output_type": "stream",
          "text": [
            "Training set shape: (8000, 1000)\n",
            "Validation set shape: (2000, 1000)\n"
          ]
        }
      ],
      "source": [
        "train, val, train_label, val_label = train_test_split(data_array, target_array, test_size=0.2, random_state=42)\n",
        "\n",
        "print('Training set shape:', train.shape)\n",
        "print('Validation set shape:', val.shape)"
      ]
    },
    {
      "cell_type": "markdown",
      "metadata": {
        "id": "JiuWFszkVt-A"
      },
      "source": [
        "$\\textbf{Exercise put this TFIDF data matrix into Machine Learning Classifier}$"
      ]
    },
    {
      "cell_type": "code",
      "execution_count": null,
      "metadata": {
        "id": "NcB4MjvlVt-A"
      },
      "outputs": [],
      "source": []
    },
    {
      "cell_type": "code",
      "execution_count": null,
      "metadata": {
        "id": "Z2RP0gCfVt-A"
      },
      "outputs": [],
      "source": []
    },
    {
      "cell_type": "markdown",
      "metadata": {
        "id": "WL0Mz-HUVt-D"
      },
      "source": [
        "$\\textbf{Data Loader}$"
      ]
    },
    {
      "cell_type": "code",
      "execution_count": null,
      "metadata": {
        "id": "3axckmidVt-D"
      },
      "outputs": [],
      "source": [
        "train_dataset = []\n",
        "\n",
        "for i in range(8000):\n",
        "    train_dataset.append((train[i], train_label[i][0]))\n",
        "\n",
        "val_dataset = []\n",
        "\n",
        "for i in range(2000):\n",
        "    val_dataset.append((val[i], val_label[i][0]))"
      ]
    },
    {
      "cell_type": "code",
      "execution_count": null,
      "metadata": {
        "id": "u_nag0AvVt-D",
        "outputId": "a0ac962c-ed6c-44ae-9f97-6cb6aec2fb01"
      },
      "outputs": [
        {
          "name": "stdout",
          "output_type": "stream",
          "text": [
            "torch.Size([64, 1000])\n",
            "torch.Size([64])\n"
          ]
        }
      ],
      "source": [
        "import torch\n",
        "from torch import nn\n",
        "from torch.utils.data import DataLoader\n",
        "\n",
        "# Create a DataLoader\n",
        "tfidf_train_dataloader = DataLoader(train_dataset, batch_size = 64, shuffle = True)\n",
        "tfidf_val_dataloader = DataLoader(val_dataset, batch_size = 64, shuffle = True)\n",
        "\n",
        "for x, y in tfidf_train_dataloader:\n",
        "    print(x.shape)\n",
        "    print(y.shape)\n",
        "    break"
      ]
    },
    {
      "cell_type": "markdown",
      "metadata": {
        "id": "yWiQMT10Vt-D"
      },
      "source": [
        "$\\textbf{Exercise feed this TFIDF data matrix into Neural network Classifier}$\n"
      ]
    },
    {
      "cell_type": "code",
      "execution_count": null,
      "metadata": {
        "id": "cI0iTGnDVt-E"
      },
      "outputs": [],
      "source": []
    },
    {
      "cell_type": "code",
      "execution_count": null,
      "metadata": {
        "id": "1FYP39QAVt-E"
      },
      "outputs": [],
      "source": []
    }
  ],
  "metadata": {
    "kernelspec": {
      "display_name": "shivam_env",
      "language": "python",
      "name": "python3"
    },
    "language_info": {
      "codemirror_mode": {
        "name": "ipython",
        "version": 3
      },
      "file_extension": ".py",
      "mimetype": "text/x-python",
      "name": "python",
      "nbconvert_exporter": "python",
      "pygments_lexer": "ipython3",
      "version": "3.12.3"
    },
    "colab": {
      "provenance": []
    }
  },
  "nbformat": 4,
  "nbformat_minor": 0
}